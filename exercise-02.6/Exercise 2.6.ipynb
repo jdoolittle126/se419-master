{
 "cells": [
  {
   "cell_type": "code",
   "execution_count": 1,
   "metadata": {},
   "outputs": [
    {
     "name": "stdout",
     "output_type": "stream",
     "text": [
      "24\n"
     ]
    }
   ],
   "source": [
    "d = {}\n",
    "d[\"George\"] = 24\n",
    "d[\"Tom\"] = 32\n",
    "d[\"Jenny\"] = 16\n",
    "print(d[\"George\"])"
   ]
  },
  {
   "cell_type": "code",
   "execution_count": 2,
   "metadata": {},
   "outputs": [
    {
     "ename": "KeyError",
     "evalue": "'Alice'",
     "output_type": "error",
     "traceback": [
      "\u001b[1;31m---------------------------------------------------------------------------\u001b[0m",
      "\u001b[1;31mKeyError\u001b[0m                                  Traceback (most recent call last)",
      "\u001b[1;32m<ipython-input-2-36dc94b23fc1>\u001b[0m in \u001b[0;36m<module>\u001b[1;34m\u001b[0m\n\u001b[1;32m----> 1\u001b[1;33m \u001b[0mprint\u001b[0m\u001b[1;33m(\u001b[0m\u001b[0md\u001b[0m\u001b[1;33m[\u001b[0m\u001b[1;34m\"Alice\"\u001b[0m\u001b[1;33m]\u001b[0m\u001b[1;33m)\u001b[0m\u001b[1;33m\u001b[0m\u001b[1;33m\u001b[0m\u001b[0m\n\u001b[0m",
      "\u001b[1;31mKeyError\u001b[0m: 'Alice'"
     ]
    }
   ],
   "source": [
    "print(d[\"Alice\"])"
   ]
  },
  {
   "cell_type": "code",
   "execution_count": 3,
   "metadata": {},
   "outputs": [
    {
     "name": "stdout",
     "output_type": "stream",
     "text": [
      "35\n"
     ]
    }
   ],
   "source": [
    "d[\"George\"] = 35\n",
    "print(d[\"George\"])"
   ]
  },
  {
   "cell_type": "code",
   "execution_count": 4,
   "metadata": {},
   "outputs": [
    {
     "name": "stdout",
     "output_type": "stream",
     "text": [
      "100\n"
     ]
    }
   ],
   "source": [
    "d[10] = 100\n",
    "print(d[10])"
   ]
  },
  {
   "cell_type": "code",
   "execution_count": 5,
   "metadata": {},
   "outputs": [
    {
     "name": "stdout",
     "output_type": "stream",
     "text": [
      "{'George': 35, 'Tom': 32, 'Jenny': 16, 10: 100}\n"
     ]
    }
   ],
   "source": [
    "print(d)"
   ]
  },
  {
   "cell_type": "code",
   "execution_count": 6,
   "metadata": {},
   "outputs": [
    {
     "name": "stdout",
     "output_type": "stream",
     "text": [
      "key: George\n",
      "value: 35\n",
      " \n",
      "key: Tom\n",
      "value: 32\n",
      " \n",
      "key: Jenny\n",
      "value: 16\n",
      " \n",
      "key: 10\n",
      "value: 100\n",
      " \n"
     ]
    }
   ],
   "source": [
    "for key, value in d.items():\n",
    "    print(\"key:\", key)\n",
    "    print(\"value:\", value)\n",
    "    print(\" \")"
   ]
  },
  {
   "cell_type": "code",
   "execution_count": 7,
   "metadata": {},
   "outputs": [
    {
     "name": "stdout",
     "output_type": "stream",
     "text": [
      "AL | Alabama\n",
      "AK | Alaska\n",
      "AZ | Arizona\n",
      "AR | Arkansas\n",
      "CA | California\n",
      "CO | Colorado\n",
      "CT | Connecticut\n",
      "DE | Delaware\n",
      "FL | Florida\n",
      "GA | Georgia\n"
     ]
    }
   ],
   "source": [
    "states = {}\n",
    "states[\"AL\"] = \"Alabama\"\n",
    "states[\"AK\"] = \"Alaska\"\n",
    "states[\"AZ\"] = \"Arizona\"\n",
    "states[\"AR\"] = \"Arkansas\"\n",
    "states[\"CA\"] = \"California\"\n",
    "states[\"CO\"] = \"Colorado\"\n",
    "states[\"CT\"] = \"Connecticut\"\n",
    "states[\"DE\"] = \"Delaware\"\n",
    "states[\"FL\"] = \"Florida\"\n",
    "states[\"GA\"] = \"Georgia\"\n",
    "\n",
    "for key, value in states.items():\n",
    "    print(key + \" | \" + value)"
   ]
  },
  {
   "cell_type": "markdown",
   "metadata": {},
   "source": [
    "## Jonathan Doolittle"
   ]
  },
  {
   "cell_type": "code",
   "execution_count": null,
   "metadata": {},
   "outputs": [],
   "source": []
  }
 ],
 "metadata": {
  "kernelspec": {
   "display_name": "Python 3",
   "language": "python",
   "name": "python3"
  },
  "language_info": {
   "codemirror_mode": {
    "name": "ipython",
    "version": 3
   },
   "file_extension": ".py",
   "mimetype": "text/x-python",
   "name": "python",
   "nbconvert_exporter": "python",
   "pygments_lexer": "ipython3",
   "version": "3.8.3"
  }
 },
 "nbformat": 4,
 "nbformat_minor": 4
}
