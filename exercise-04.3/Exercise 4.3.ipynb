{
 "cells": [
  {
   "cell_type": "code",
   "execution_count": 2,
   "id": "a1981665",
   "metadata": {},
   "outputs": [],
   "source": [
    "%matplotlib inline\n",
    "import numpy as np\n",
    "import pandas as pd\n",
    "import matplotlib.pyplot as plt\n",
    "from scipy.optimize import fmin\n",
    "import seaborn as sns\n",
    "sns.set_context('talk')\n",
    "sns.set_style('white')\n",
    "\n",
    "RANDOM_SEED = 20090425"
   ]
  },
  {
   "cell_type": "code",
   "execution_count": 3,
   "id": "9314e2a7",
   "metadata": {},
   "outputs": [],
   "source": [
    "from io import StringIO"
   ]
  },
  {
   "cell_type": "code",
   "execution_count": 4,
   "id": "0f27d3f2",
   "metadata": {},
   "outputs": [],
   "source": [
    "data_string = \"\"\"\n",
    "Drugs   Score\n",
    "0   1.17   78.93\n",
    "1   2.97   58.20\n",
    "2   3.26   67.47\n",
    "3   4.69   37.47\n",
    "4   5.83   45.65\n",
    "5   6.00   32.92\n",
    "6   6.41   29.97\n",
    "\"\"\""
   ]
  },
  {
   "cell_type": "code",
   "execution_count": null,
   "id": "dd9842a9",
   "metadata": {},
   "outputs": [],
   "source": [
    "lsd_and_math = pd.read_table(StringIO(data_string), sep=\"\")"
   ]
  }
 ],
 "metadata": {
  "kernelspec": {
   "display_name": "Python 3 (ipykernel)",
   "language": "python",
   "name": "python3"
  },
  "language_info": {
   "codemirror_mode": {
    "name": "ipython",
    "version": 3
   },
   "file_extension": ".py",
   "mimetype": "text/x-python",
   "name": "python",
   "nbconvert_exporter": "python",
   "pygments_lexer": "ipython3",
   "version": "3.9.7"
  }
 },
 "nbformat": 4,
 "nbformat_minor": 5
}
