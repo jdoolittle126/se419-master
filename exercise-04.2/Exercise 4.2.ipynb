{
 "cells": [
  {
   "cell_type": "code",
   "execution_count": 1,
   "id": "27227961",
   "metadata": {},
   "outputs": [],
   "source": [
    "%matplotlib inline\n",
    "import numpy as np\n",
    "import pandas as pd\n",
    "import matplotlib.pylab as plt\n",
    "import seaborn as sns\n",
    "sns.set_context('notebook')\n",
    "\n",
    "RANDOM_SEED = 20090425"
   ]
  },
  {
   "cell_type": "code",
   "execution_count": 2,
   "id": "fecaf4c6",
   "metadata": {},
   "outputs": [
    {
     "name": "stderr",
     "output_type": "stream",
     "text": [
      "WARNING (theano.tensor.blas): Using NumPy C-API based implementation for BLAS functions.\n"
     ]
    }
   ],
   "source": [
    "import pymc3\n",
    "    \n",
    "from pymc3 import Poisson\n",
    "x = Poisson.dist(mu=1)"
   ]
  },
  {
   "cell_type": "code",
   "execution_count": 3,
   "id": "94580973",
   "metadata": {},
   "outputs": [],
   "source": [
    "samples = x.random(size=10000)"
   ]
  },
  {
   "cell_type": "code",
   "execution_count": 4,
   "id": "c8044e02",
   "metadata": {},
   "outputs": [
    {
     "data": {
      "text/plain": [
       "0.9962"
      ]
     },
     "execution_count": 4,
     "metadata": {},
     "output_type": "execute_result"
    }
   ],
   "source": [
    "samples.mean()"
   ]
  },
  {
   "cell_type": "code",
   "execution_count": 5,
   "id": "41372c40",
   "metadata": {},
   "outputs": [
    {
     "data": {
      "text/plain": [
       "(array([3.688e+03, 3.715e+03, 1.806e+03, 5.850e+02, 1.600e+02, 3.700e+01,\n",
       "        8.000e+00, 1.000e+00]),\n",
       " array([0.   , 0.875, 1.75 , 2.625, 3.5  , 4.375, 5.25 , 6.125, 7.   ]),\n",
       " <BarContainer object of 8 artists>)"
      ]
     },
     "execution_count": 5,
     "metadata": {},
     "output_type": "execute_result"
    },
    {
     "data": {
      "image/png": "[encoded data removed]",
      "text/plain": [
       "<Figure size 432x288 with 1 Axes>"
      ]
     },
     "metadata": {
      "needs_background": "light"
     },
     "output_type": "display_data"
    }
   ],
   "source": [
    "plt.hist(samples, bins=len(set(samples)))"
   ]
  },
  {
   "cell_type": "code",
   "execution_count": 6,
   "id": "e4281326",
   "metadata": {},
   "outputs": [],
   "source": [
    "from pymc3 import Normal\n",
    "y = Normal.dist(mu=-2, sd=4)\n",
    "samples = y.random(size=10000)"
   ]
  },
  {
   "cell_type": "code",
   "execution_count": 7,
   "id": "8b4436d0",
   "metadata": {},
   "outputs": [
    {
     "data": {
      "text/plain": [
       "-1.9827524462329595"
      ]
     },
     "execution_count": 7,
     "metadata": {},
     "output_type": "execute_result"
    }
   ],
   "source": [
    "samples.mean()"
   ]
  },
  {
   "cell_type": "code",
   "execution_count": 8,
   "id": "072b23fe",
   "metadata": {},
   "outputs": [
    {
     "data": {
      "text/plain": [
       "3.9580546736206013"
      ]
     },
     "execution_count": 8,
     "metadata": {},
     "output_type": "execute_result"
    }
   ],
   "source": [
    "samples.std()"
   ]
  },
  {
   "cell_type": "code",
   "execution_count": 9,
   "id": "cac8ee20",
   "metadata": {},
   "outputs": [
    {
     "data": {
      "text/plain": [
       "(array([3.000e+00, 5.400e+01, 3.950e+02, 1.420e+03, 2.797e+03, 3.009e+03,\n",
       "        1.702e+03, 5.220e+02, 8.600e+01, 1.200e+01]),\n",
       " array([-18.27121874, -15.07766874, -11.88411874,  -8.69056874,\n",
       "         -5.49701874,  -2.30346874,   0.89008126,   4.08363125,\n",
       "          7.27718125,  10.47073125,  13.66428125]),\n",
       " <BarContainer object of 10 artists>)"
      ]
     },
     "execution_count": 9,
     "metadata": {},
     "output_type": "execute_result"
    },
    {
     "data": {
      "image/png": "[encoded data removed]",
      "text/plain": [
       "<Figure size 432x288 with 1 Axes>"
      ]
     },
     "metadata": {
      "needs_background": "light"
     },
     "output_type": "display_data"
    }
   ],
   "source": [
    "plt.hist(samples)"
   ]
  },
  {
   "cell_type": "code",
   "execution_count": 10,
   "id": "ddf38ca7",
   "metadata": {},
   "outputs": [],
   "source": [
    "radon = pd.read_csv('radon.csv', index_col=0)"
   ]
  },
  {
   "cell_type": "code",
   "execution_count": 11,
   "id": "022283d3",
   "metadata": {},
   "outputs": [
    {
     "data": {
      "text/html": [
       "<div>\n",
       "<style scoped>\n",
       "    .dataframe tbody tr th:only-of-type {\n",
       "        vertical-align: middle;\n",
       "    }\n",
       "\n",
       "    .dataframe tbody tr th {\n",
       "        vertical-align: top;\n",
       "    }\n",
       "\n",
       "    .dataframe thead th {\n",
       "        text-align: right;\n",
       "    }\n",
       "</style>\n",
       "<table border=\"1\" class=\"dataframe\">\n",
       "  <thead>\n",
       "    <tr style=\"text-align: right;\">\n",
       "      <th></th>\n",
       "      <th>idnum</th>\n",
       "      <th>state</th>\n",
       "      <th>state2</th>\n",
       "      <th>stfips</th>\n",
       "      <th>zip</th>\n",
       "      <th>region</th>\n",
       "      <th>typebldg</th>\n",
       "      <th>floor</th>\n",
       "      <th>room</th>\n",
       "      <th>basement</th>\n",
       "      <th>...</th>\n",
       "      <th>pcterr</th>\n",
       "      <th>adjwt</th>\n",
       "      <th>dupflag</th>\n",
       "      <th>zipflag</th>\n",
       "      <th>cntyfips</th>\n",
       "      <th>county</th>\n",
       "      <th>fips</th>\n",
       "      <th>Uppm</th>\n",
       "      <th>county_code</th>\n",
       "      <th>log_radon</th>\n",
       "    </tr>\n",
       "  </thead>\n",
       "  <tbody>\n",
       "    <tr>\n",
       "      <th>0</th>\n",
       "      <td>5081.0</td>\n",
       "      <td>MN</td>\n",
       "      <td>MN</td>\n",
       "      <td>27.0</td>\n",
       "      <td>55735</td>\n",
       "      <td>5.0</td>\n",
       "      <td>1.0</td>\n",
       "      <td>1.0</td>\n",
       "      <td>3.0</td>\n",
       "      <td>N</td>\n",
       "      <td>...</td>\n",
       "      <td>9.7</td>\n",
       "      <td>1146.499190</td>\n",
       "      <td>1.0</td>\n",
       "      <td>0.0</td>\n",
       "      <td>1.0</td>\n",
       "      <td>AITKIN</td>\n",
       "      <td>27001.0</td>\n",
       "      <td>0.502054</td>\n",
       "      <td>0</td>\n",
       "      <td>0.832909</td>\n",
       "    </tr>\n",
       "    <tr>\n",
       "      <th>1</th>\n",
       "      <td>5082.0</td>\n",
       "      <td>MN</td>\n",
       "      <td>MN</td>\n",
       "      <td>27.0</td>\n",
       "      <td>55748</td>\n",
       "      <td>5.0</td>\n",
       "      <td>1.0</td>\n",
       "      <td>0.0</td>\n",
       "      <td>4.0</td>\n",
       "      <td>Y</td>\n",
       "      <td>...</td>\n",
       "      <td>14.5</td>\n",
       "      <td>471.366223</td>\n",
       "      <td>0.0</td>\n",
       "      <td>0.0</td>\n",
       "      <td>1.0</td>\n",
       "      <td>AITKIN</td>\n",
       "      <td>27001.0</td>\n",
       "      <td>0.502054</td>\n",
       "      <td>0</td>\n",
       "      <td>0.832909</td>\n",
       "    </tr>\n",
       "    <tr>\n",
       "      <th>2</th>\n",
       "      <td>5083.0</td>\n",
       "      <td>MN</td>\n",
       "      <td>MN</td>\n",
       "      <td>27.0</td>\n",
       "      <td>55748</td>\n",
       "      <td>5.0</td>\n",
       "      <td>1.0</td>\n",
       "      <td>0.0</td>\n",
       "      <td>4.0</td>\n",
       "      <td>Y</td>\n",
       "      <td>...</td>\n",
       "      <td>9.6</td>\n",
       "      <td>433.316718</td>\n",
       "      <td>0.0</td>\n",
       "      <td>0.0</td>\n",
       "      <td>1.0</td>\n",
       "      <td>AITKIN</td>\n",
       "      <td>27001.0</td>\n",
       "      <td>0.502054</td>\n",
       "      <td>0</td>\n",
       "      <td>1.098612</td>\n",
       "    </tr>\n",
       "    <tr>\n",
       "      <th>3</th>\n",
       "      <td>5084.0</td>\n",
       "      <td>MN</td>\n",
       "      <td>MN</td>\n",
       "      <td>27.0</td>\n",
       "      <td>56469</td>\n",
       "      <td>5.0</td>\n",
       "      <td>1.0</td>\n",
       "      <td>0.0</td>\n",
       "      <td>4.0</td>\n",
       "      <td>Y</td>\n",
       "      <td>...</td>\n",
       "      <td>24.3</td>\n",
       "      <td>461.623670</td>\n",
       "      <td>0.0</td>\n",
       "      <td>0.0</td>\n",
       "      <td>1.0</td>\n",
       "      <td>AITKIN</td>\n",
       "      <td>27001.0</td>\n",
       "      <td>0.502054</td>\n",
       "      <td>0</td>\n",
       "      <td>0.095310</td>\n",
       "    </tr>\n",
       "    <tr>\n",
       "      <th>4</th>\n",
       "      <td>5085.0</td>\n",
       "      <td>MN</td>\n",
       "      <td>MN</td>\n",
       "      <td>27.0</td>\n",
       "      <td>55011</td>\n",
       "      <td>3.0</td>\n",
       "      <td>1.0</td>\n",
       "      <td>0.0</td>\n",
       "      <td>4.0</td>\n",
       "      <td>Y</td>\n",
       "      <td>...</td>\n",
       "      <td>13.8</td>\n",
       "      <td>433.316718</td>\n",
       "      <td>0.0</td>\n",
       "      <td>0.0</td>\n",
       "      <td>3.0</td>\n",
       "      <td>ANOKA</td>\n",
       "      <td>27003.0</td>\n",
       "      <td>0.428565</td>\n",
       "      <td>1</td>\n",
       "      <td>1.163151</td>\n",
       "    </tr>\n",
       "  </tbody>\n",
       "</table>\n",
       "<p>5 rows × 29 columns</p>\n",
       "</div>"
      ],
      "text/plain": [
       "    idnum state state2  stfips    zip  region  typebldg  floor  room basement  \\\n",
       "0  5081.0    MN     MN    27.0  55735     5.0       1.0    1.0   3.0        N   \n",
       "1  5082.0    MN     MN    27.0  55748     5.0       1.0    0.0   4.0        Y   \n",
       "2  5083.0    MN     MN    27.0  55748     5.0       1.0    0.0   4.0        Y   \n",
       "3  5084.0    MN     MN    27.0  56469     5.0       1.0    0.0   4.0        Y   \n",
       "4  5085.0    MN     MN    27.0  55011     3.0       1.0    0.0   4.0        Y   \n",
       "\n",
       "   ... pcterr        adjwt  dupflag  zipflag  cntyfips  county     fips  \\\n",
       "0  ...    9.7  1146.499190      1.0      0.0       1.0  AITKIN  27001.0   \n",
       "1  ...   14.5   471.366223      0.0      0.0       1.0  AITKIN  27001.0   \n",
       "2  ...    9.6   433.316718      0.0      0.0       1.0  AITKIN  27001.0   \n",
       "3  ...   24.3   461.623670      0.0      0.0       1.0  AITKIN  27001.0   \n",
       "4  ...   13.8   433.316718      0.0      0.0       3.0   ANOKA  27003.0   \n",
       "\n",
       "       Uppm  county_code  log_radon  \n",
       "0  0.502054            0   0.832909  \n",
       "1  0.502054            0   0.832909  \n",
       "2  0.502054            0   1.098612  \n",
       "3  0.502054            0   0.095310  \n",
       "4  0.428565            1   1.163151  \n",
       "\n",
       "[5 rows x 29 columns]"
      ]
     },
     "execution_count": 11,
     "metadata": {},
     "output_type": "execute_result"
    }
   ],
   "source": [
    "radon.head()"
   ]
  },
  {
   "cell_type": "code",
   "execution_count": 12,
   "id": "b5986fd0",
   "metadata": {},
   "outputs": [
    {
     "name": "stderr",
     "output_type": "stream",
     "text": [
      "E:\\Programs\\Utility\\Anaconda\\envs\\pymc_env\\lib\\site-packages\\seaborn\\distributions.py:2619: FutureWarning: `distplot` is a deprecated function and will be removed in a future version. Please adapt your code to use either `displot` (a figure-level function with similar flexibility) or `histplot` (an axes-level function for histograms).\n",
      "  warnings.warn(msg, FutureWarning)\n"
     ]
    },
    {
     "data": {
      "text/plain": [
       "<AxesSubplot:xlabel='log_radon', ylabel='Density'>"
      ]
     },
     "execution_count": 12,
     "metadata": {},
     "output_type": "execute_result"
    },
    {
     "data": {
      "image/png": "[encoded data removed]",
      "text/plain": [
       "<Figure size 432x288 with 1 Axes>"
      ]
     },
     "metadata": {
      "needs_background": "light"
     },
     "output_type": "display_data"
    }
   ],
   "source": [
    "hennepin_radon = radon.query('county==\"HENNEPIN\"').log_radon\n",
    "sns.distplot(hennepin_radon)"
   ]
  },
  {
   "cell_type": "code",
   "execution_count": 13,
   "id": "4a92908b",
   "metadata": {},
   "outputs": [
    {
     "data": {
      "text/plain": [
       "(105,)"
      ]
     },
     "execution_count": 13,
     "metadata": {},
     "output_type": "execute_result"
    }
   ],
   "source": [
    "hennepin_radon.shape"
   ]
  },
  {
   "cell_type": "code",
   "execution_count": 15,
   "id": "d517ede2",
   "metadata": {},
   "outputs": [
    {
     "name": "stdout",
     "output_type": "stream",
     "text": [
      "\n",
      "You can find the C code in this temporary file: C:\\Users\\Jon\\AppData\\Local\\Temp\\theano_compilation_error_5zkjpk3x\n"
     ]
    },
    {
     "ename": "Exception",
     "evalue": "('Compilation failed (return status=1): In file included from E:\\\\Programs\\\\Utility\\\\Anaconda\\\\envs\\\\pymc_env\\\\include/Python.h:50:0,.                  from C:\\\\Users\\\\Jon\\\\AppData\\\\Local\\\\Theano\\\\compiledir_Windows-10-10.0.19042-SP0-Intel64_Family_6_Model_165_Stepping_5_GenuineIntel-3.10.4-64\\\\tmpi4sw7nu1\\\\mod.cpp:1:. E:\\\\Programs\\\\Utility\\\\Anaconda\\\\envs\\\\pymc_env\\\\include/pyport.h:746:2: error: #error \"LONG_BIT definition appears wrong for platform (bad gcc/glibc config?).\".  #error \"LONG_BIT definition appears wrong for platform (bad gcc/glibc config?).\".   ^~~~~. In file included from E:\\\\Programs\\\\Utility\\\\Anaconda\\\\envs\\\\pymc_env\\\\include/fileutils.h:19:0,.                  from E:\\\\Programs\\\\Utility\\\\Anaconda\\\\envs\\\\pymc_env\\\\include/Python.h:144,.                  from C:\\\\Users\\\\Jon\\\\AppData\\\\Local\\\\Theano\\\\compiledir_Windows-10-10.0.19042-SP0-Intel64_Family_6_Model_165_Stepping_5_GenuineIntel-3.10.4-64\\\\tmpi4sw7nu1\\\\mod.cpp:1:. E:\\\\Programs\\\\Utility\\\\Anaconda\\\\envs\\\\pymc_env\\\\include/cpython/fileutils.h:63:5: error: \\'__int64\\' does not name a type; did you mean \\'__int64_t\\'?.      __int64 st_size;.      ^~~~~~~.      __int64_t. In file included from /usr/include/sys/stat.h:22:0,.                  from E:\\\\Programs\\\\Utility\\\\Anaconda\\\\envs\\\\pymc_env\\\\include/pyport.h:243,.                  from E:\\\\Programs\\\\Utility\\\\Anaconda\\\\envs\\\\pymc_env\\\\include/Python.h:50,.                  from C:\\\\Users\\\\Jon\\\\AppData\\\\Local\\\\Theano\\\\compiledir_Windows-10-10.0.19042-SP0-Intel64_Family_6_Model_165_Stepping_5_GenuineIntel-3.10.4-64\\\\tmpi4sw7nu1\\\\mod.cpp:1:. E:\\\\Programs\\\\Utility\\\\Anaconda\\\\envs\\\\pymc_env\\\\include/cpython/fileutils.h:64:12: error: expected \\';\\' at end of member declaration.      time_t st_atime;.             ^. E:\\\\Programs\\\\Utility\\\\Anaconda\\\\envs\\\\pymc_env\\\\include/cpython/fileutils.h:64:12: error: expected unqualified-id before \\'.\\' token.      time_t st_atime;.             ^. E:\\\\Programs\\\\Utility\\\\Anaconda\\\\envs\\\\pymc_env\\\\include/cpython/fileutils.h:66:12: error: expected \\';\\' at end of member declaration.      time_t st_mtime;.             ^. E:\\\\Programs\\\\Utility\\\\Anaconda\\\\envs\\\\pymc_env\\\\include/cpython/fileutils.h:66:12: error: expected unqualified-id before \\'.\\' token.      time_t st_mtime;.             ^. E:\\\\Programs\\\\Utility\\\\Anaconda\\\\envs\\\\pymc_env\\\\include/cpython/fileutils.h:68:12: error: expected \\';\\' at end of member declaration.      time_t st_ctime;.             ^. E:\\\\Programs\\\\Utility\\\\Anaconda\\\\envs\\\\pymc_env\\\\include/cpython/fileutils.h:68:12: error: expected unqualified-id before \\'.\\' token.      time_t st_ctime;.             ^. In file included from E:\\\\Programs\\\\Utility\\\\Anaconda\\\\envs\\\\pymc_env\\\\include/Python.h:8:0,.                  from C:\\\\Users\\\\Jon\\\\AppData\\\\Local\\\\Theano\\\\compiledir_Windows-10-10.0.19042-SP0-Intel64_Family_6_Model_165_Stepping_5_GenuineIntel-3.10.4-64\\\\tmpi4sw7nu1\\\\mod.cpp:1:. E:\\\\Programs\\\\Utility\\\\Anaconda\\\\envs\\\\pymc_env\\\\include/pyconfig.h:246:29: error: \\'__int64\\' does not name a type; did you mean \\'__int64_t\\'?.  #       define PY_LONG_LONG __int64.                              ^. E:\\\\Programs\\\\Utility\\\\Anaconda\\\\envs\\\\pymc_env\\\\lib\\\\site-packages\\\\numpy\\\\core\\\\include/numpy/npy_common.h:332:9: note: in expansion of macro \\'PY_LONG_LONG\\'.  typedef PY_LONG_LONG npy_longlong;.          ^~~~~~~~~~~~. In file included from E:\\\\Programs\\\\Utility\\\\Anaconda\\\\envs\\\\pymc_env\\\\lib\\\\site-packages\\\\numpy\\\\core\\\\include/numpy/ndarraytypes.h:4:0,.                  from E:\\\\Programs\\\\Utility\\\\Anaconda\\\\envs\\\\pymc_env\\\\lib\\\\site-packages\\\\numpy\\\\core\\\\include/numpy/ndarrayobject.h:12,.                  from E:\\\\Programs\\\\Utility\\\\Anaconda\\\\envs\\\\pymc_env\\\\lib\\\\site-packages\\\\numpy\\\\core\\\\include/numpy/arrayobject.h:4,.                  from C:\\\\Users\\\\Jon\\\\AppData\\\\Local\\\\Theano\\\\compiledir_Windows-10-10.0.19042-SP0-Intel64_Family_6_Model_165_Stepping_5_GenuineIntel-3.10.4-64\\\\tmpi4sw7nu1\\\\mod.cpp:5:. E:\\\\Programs\\\\Utility\\\\Anaconda\\\\envs\\\\pymc_env\\\\lib\\\\site-packages\\\\numpy\\\\core\\\\include/numpy/npy_common.h:333:31: error: expected initializer before \\'npy_ulonglong\\'.  typedef unsigned PY_LONG_LONG npy_ulonglong;.                                ^~~~~~~~~~~~~. In file included from E:\\\\Programs\\\\Utility\\\\Anaconda\\\\envs\\\\pymc_env\\\\lib\\\\site-packages\\\\numpy\\\\core\\\\include/numpy/ndarraytypes.h:4:0,.                  from E:\\\\Programs\\\\Utility\\\\Anaconda\\\\envs\\\\pymc_env\\\\lib\\\\site-packages\\\\numpy\\\\core\\\\include/numpy/ndarrayobject.h:12,.                  from E:\\\\Programs\\\\Utility\\\\Anaconda\\\\envs\\\\pymc_env\\\\lib\\\\site-packages\\\\numpy\\\\core\\\\include/numpy/arrayobject.h:4,.                  from C:\\\\Users\\\\Jon\\\\AppData\\\\Local\\\\Theano\\\\compiledir_Windows-10-10.0.19042-SP0-Intel64_Family_6_Model_165_Stepping_5_GenuineIntel-3.10.4-64\\\\tmpi4sw7nu1\\\\mod.cpp:5:. E:\\\\Programs\\\\Utility\\\\Anaconda\\\\envs\\\\pymc_env\\\\lib\\\\site-packages\\\\numpy\\\\core\\\\include/numpy/npy_common.h:641:17: error: \\'npy_longlong\\' does not name a type; did you mean \\'npy_long\\'?.          typedef npy_longlong npy_int64;.                  ^~~~~~~~~~~~.                  npy_long. E:\\\\Programs\\\\Utility\\\\Anaconda\\\\envs\\\\pymc_env\\\\lib\\\\site-packages\\\\numpy\\\\core\\\\include/numpy/npy_common.h:642:17: error: \\'npy_ulonglong\\' does not name a type; did you mean \\'npy_ulong\\'?.          typedef npy_ulonglong npy_uint64;.                  ^~~~~~~~~~~~~.                  npy_ulong. E:\\\\Programs\\\\Utility\\\\Anaconda\\\\envs\\\\pymc_env\\\\lib\\\\site-packages\\\\numpy\\\\core\\\\include/numpy/npy_common.h:1120:9: error: \\'npy_int64\\' does not name a type; did you mean \\'npy_int8\\'?.  typedef npy_int64 npy_timedelta;.          ^~~~~~~~~.          npy_int8. E:\\\\Programs\\\\Utility\\\\Anaconda\\\\envs\\\\pymc_env\\\\lib\\\\site-packages\\\\numpy\\\\core\\\\include/numpy/npy_common.h:1121:9: error: \\'npy_int64\\' does not name a type; did you mean \\'npy_int8\\'?.  typedef npy_int64 npy_datetime;.          ^~~~~~~~~.          npy_int8. In file included from E:\\\\Programs\\\\Utility\\\\Anaconda\\\\envs\\\\pymc_env\\\\lib\\\\site-packages\\\\numpy\\\\core\\\\include/numpy/ndarrayobject.h:12:0,.                  from E:\\\\Programs\\\\Utility\\\\Anaconda\\\\envs\\\\pymc_env\\\\lib\\\\site-packages\\\\numpy\\\\core\\\\include/numpy/arrayobject.h:4,.                  from C:\\\\Users\\\\Jon\\\\AppData\\\\Local\\\\Theano\\\\compiledir_Windows-10-10.0.19042-SP0-Intel64_Family_6_Model_165_Stepping_5_GenuineIntel-3.10.4-64\\\\tmpi4sw7nu1\\\\mod.cpp:5:. E:\\\\Programs\\\\Utility\\\\Anaconda\\\\envs\\\\pymc_env\\\\lib\\\\site-packages\\\\numpy\\\\core\\\\include/numpy/ndarraytypes.h:783:9: error: \\'npy_int64\\' does not name a type; did you mean \\'npy_int8\\'?.          npy_int64 year;.          ^~~~~~~~~.          npy_int8. E:\\\\Programs\\\\Utility\\\\Anaconda\\\\envs\\\\pymc_env\\\\lib\\\\site-packages\\\\numpy\\\\core\\\\include/numpy/ndarraytypes.h:789:9: error: \\'npy_int64\\' does not name a type; did you mean \\'npy_int8\\'?.          npy_int64 day;.          ^~~~~~~~~.          npy_int8. In file included from C:\\\\Users\\\\Jon\\\\AppData\\\\Local\\\\Theano\\\\compiledir_Windows-10-10.0.19042-SP0-Intel64_Family_6_Model_165_Stepping_5_GenuineIntel-3.10.4-64\\\\tmpi4sw7nu1\\\\mod.cpp:6:0:. E:\\\\Programs\\\\Utility\\\\Anaconda\\\\envs\\\\pymc_env\\\\lib\\\\site-packages\\\\numpy\\\\core\\\\include/numpy/arrayscalars.h:38:9: error: \\'npy_longlong\\' does not name a type; did you mean \\'npy_long\\'?.          npy_longlong obval;.          ^~~~~~~~~~~~.          npy_long. E:\\\\Programs\\\\Utility\\\\Anaconda\\\\envs\\\\pymc_env\\\\lib\\\\site-packages\\\\numpy\\\\core\\\\include/numpy/arrayscalars.h:68:9: error: \\'npy_ulonglong\\' does not name a type; did you mean \\'npy_ulong\\'?.          npy_ulonglong obval;.          ^~~~~~~~~~~~~.          npy_ulong. E:\\\\Programs\\\\Utility\\\\Anaconda\\\\envs\\\\pymc_env\\\\lib\\\\site-packages\\\\numpy\\\\core\\\\include/numpy/arrayscalars.h:121:9: error: \\'npy_datetime\\' does not name a type; did you mean \\'npy_datetimestruct\\'?.          npy_datetime obval;.          ^~~~~~~~~~~~.          npy_datetimestruct. E:\\\\Programs\\\\Utility\\\\Anaconda\\\\envs\\\\pymc_env\\\\lib\\\\site-packages\\\\numpy\\\\core\\\\include/numpy/arrayscalars.h:127:9: error: \\'npy_timedelta\\' does not name a type; did you mean \\'npy_timedeltastruct\\'?.          npy_timedelta obval;.          ^~~~~~~~~~~~~.          npy_timedeltastruct. cc1plus: warning: unrecognized command line option \\'-Wno-c++11-narrowing\\'. ', 'FunctionGraph(Elemwise{true_div,no_inplace}(TensorConstant{1.0}, TensorConstant{0.01}))')",
     "output_type": "error",
     "traceback": [
      "\u001b[1;31m---------------------------------------------------------------------------\u001b[0m",
      "\u001b[1;31mException\u001b[0m                                 Traceback (most recent call last)",
      "Input \u001b[1;32mIn [15]\u001b[0m, in \u001b[0;36m<cell line: 2>\u001b[1;34m()\u001b[0m\n\u001b[0;32m      1\u001b[0m \u001b[38;5;28;01mfrom\u001b[39;00m \u001b[38;5;21;01mpymc3\u001b[39;00m \u001b[38;5;28;01mimport\u001b[39;00m Model, Uniform\n\u001b[0;32m      2\u001b[0m \u001b[38;5;28;01mwith\u001b[39;00m Model() \u001b[38;5;28;01mas\u001b[39;00m radon_model:\n\u001b[1;32m----> 3\u001b[0m     u \u001b[38;5;241m=\u001b[39m \u001b[43mNormal\u001b[49m\u001b[43m(\u001b[49m\u001b[38;5;124;43m'\u001b[39;49m\u001b[38;5;124;43mu\u001b[39;49m\u001b[38;5;124;43m'\u001b[39;49m\u001b[43m,\u001b[49m\u001b[43m \u001b[49m\u001b[43mmu\u001b[49m\u001b[38;5;241;43m=\u001b[39;49m\u001b[38;5;241;43m0\u001b[39;49m\u001b[43m,\u001b[49m\u001b[43m \u001b[49m\u001b[43msd\u001b[49m\u001b[38;5;241;43m=\u001b[39;49m\u001b[38;5;241;43m10\u001b[39;49m\u001b[43m)\u001b[49m\n\u001b[0;32m      4\u001b[0m     o \u001b[38;5;241m=\u001b[39m Uniform(\u001b[38;5;124m'\u001b[39m\u001b[38;5;124mo\u001b[39m\u001b[38;5;124m'\u001b[39m, \u001b[38;5;241m0\u001b[39m, \u001b[38;5;241m10\u001b[39m)\n",
      "File \u001b[1;32mE:\\Programs\\Utility\\Anaconda\\envs\\pymc_env\\lib\\site-packages\\pymc3\\distributions\\distribution.py:124\u001b[0m, in \u001b[0;36mDistribution.__new__\u001b[1;34m(cls, name, *args, **kwargs)\u001b[0m\n\u001b[0;32m    122\u001b[0m     dist \u001b[38;5;241m=\u001b[39m \u001b[38;5;28mcls\u001b[39m\u001b[38;5;241m.\u001b[39mdist(\u001b[38;5;241m*\u001b[39margs, \u001b[38;5;241m*\u001b[39m\u001b[38;5;241m*\u001b[39mkwargs, shape\u001b[38;5;241m=\u001b[39mshape)\n\u001b[0;32m    123\u001b[0m \u001b[38;5;28;01melse\u001b[39;00m:\n\u001b[1;32m--> 124\u001b[0m     dist \u001b[38;5;241m=\u001b[39m \u001b[38;5;28mcls\u001b[39m\u001b[38;5;241m.\u001b[39mdist(\u001b[38;5;241m*\u001b[39margs, \u001b[38;5;241m*\u001b[39m\u001b[38;5;241m*\u001b[39mkwargs)\n\u001b[0;32m    125\u001b[0m \u001b[38;5;28;01mreturn\u001b[39;00m model\u001b[38;5;241m.\u001b[39mVar(name, dist, data, total_size, dims\u001b[38;5;241m=\u001b[39mdims)\n",
      "File \u001b[1;32mE:\\Programs\\Utility\\Anaconda\\envs\\pymc_env\\lib\\site-packages\\pymc3\\distributions\\distribution.py:133\u001b[0m, in \u001b[0;36mDistribution.dist\u001b[1;34m(cls, *args, **kwargs)\u001b[0m\n\u001b[0;32m    130\u001b[0m \u001b[38;5;129m@classmethod\u001b[39m\n\u001b[0;32m    131\u001b[0m \u001b[38;5;28;01mdef\u001b[39;00m \u001b[38;5;21mdist\u001b[39m(\u001b[38;5;28mcls\u001b[39m, \u001b[38;5;241m*\u001b[39margs, \u001b[38;5;241m*\u001b[39m\u001b[38;5;241m*\u001b[39mkwargs):\n\u001b[0;32m    132\u001b[0m     dist \u001b[38;5;241m=\u001b[39m \u001b[38;5;28mobject\u001b[39m\u001b[38;5;241m.\u001b[39m\u001b[38;5;21m__new__\u001b[39m(\u001b[38;5;28mcls\u001b[39m)\n\u001b[1;32m--> 133\u001b[0m     dist\u001b[38;5;241m.\u001b[39m\u001b[38;5;21m__init__\u001b[39m(\u001b[38;5;241m*\u001b[39margs, \u001b[38;5;241m*\u001b[39m\u001b[38;5;241m*\u001b[39mkwargs)\n\u001b[0;32m    134\u001b[0m     \u001b[38;5;28;01mreturn\u001b[39;00m dist\n",
      "File \u001b[1;32mE:\\Programs\\Utility\\Anaconda\\envs\\pymc_env\\lib\\site-packages\\pymc3\\distributions\\continuous.py:488\u001b[0m, in \u001b[0;36mNormal.__init__\u001b[1;34m(self, mu, sigma, tau, sd, **kwargs)\u001b[0m\n\u001b[0;32m    485\u001b[0m \u001b[38;5;28mself\u001b[39m\u001b[38;5;241m.\u001b[39mtau \u001b[38;5;241m=\u001b[39m tt\u001b[38;5;241m.\u001b[39mas_tensor_variable(tau)\n\u001b[0;32m    487\u001b[0m \u001b[38;5;28mself\u001b[39m\u001b[38;5;241m.\u001b[39mmean \u001b[38;5;241m=\u001b[39m \u001b[38;5;28mself\u001b[39m\u001b[38;5;241m.\u001b[39mmedian \u001b[38;5;241m=\u001b[39m \u001b[38;5;28mself\u001b[39m\u001b[38;5;241m.\u001b[39mmode \u001b[38;5;241m=\u001b[39m \u001b[38;5;28mself\u001b[39m\u001b[38;5;241m.\u001b[39mmu \u001b[38;5;241m=\u001b[39m mu \u001b[38;5;241m=\u001b[39m tt\u001b[38;5;241m.\u001b[39mas_tensor_variable(floatX(mu))\n\u001b[1;32m--> 488\u001b[0m \u001b[38;5;28mself\u001b[39m\u001b[38;5;241m.\u001b[39mvariance \u001b[38;5;241m=\u001b[39m \u001b[38;5;241;43m1.0\u001b[39;49m\u001b[43m \u001b[49m\u001b[38;5;241;43m/\u001b[39;49m\u001b[43m \u001b[49m\u001b[38;5;28;43mself\u001b[39;49m\u001b[38;5;241;43m.\u001b[39;49m\u001b[43mtau\u001b[49m\n\u001b[0;32m    490\u001b[0m assert_negative_support(sigma, \u001b[38;5;124m\"\u001b[39m\u001b[38;5;124msigma\u001b[39m\u001b[38;5;124m\"\u001b[39m, \u001b[38;5;124m\"\u001b[39m\u001b[38;5;124mNormal\u001b[39m\u001b[38;5;124m\"\u001b[39m)\n\u001b[0;32m    491\u001b[0m assert_negative_support(tau, \u001b[38;5;124m\"\u001b[39m\u001b[38;5;124mtau\u001b[39m\u001b[38;5;124m\"\u001b[39m, \u001b[38;5;124m\"\u001b[39m\u001b[38;5;124mNormal\u001b[39m\u001b[38;5;124m\"\u001b[39m)\n",
      "File \u001b[1;32mE:\\Programs\\Utility\\Anaconda\\envs\\pymc_env\\lib\\site-packages\\theano\\tensor\\var.py:176\u001b[0m, in \u001b[0;36m_tensor_py_operators.__rtruediv__\u001b[1;34m(self, other)\u001b[0m\n\u001b[0;32m    175\u001b[0m \u001b[38;5;28;01mdef\u001b[39;00m \u001b[38;5;21m__rtruediv__\u001b[39m(\u001b[38;5;28mself\u001b[39m, other):\n\u001b[1;32m--> 176\u001b[0m     \u001b[38;5;28;01mreturn\u001b[39;00m \u001b[43mtheano\u001b[49m\u001b[38;5;241;43m.\u001b[39;49m\u001b[43mtensor\u001b[49m\u001b[38;5;241;43m.\u001b[39;49m\u001b[43mbasic\u001b[49m\u001b[38;5;241;43m.\u001b[39;49m\u001b[43mtrue_div\u001b[49m\u001b[43m(\u001b[49m\u001b[43mother\u001b[49m\u001b[43m,\u001b[49m\u001b[43m \u001b[49m\u001b[38;5;28;43mself\u001b[39;49m\u001b[43m)\u001b[49m\n",
      "File \u001b[1;32mE:\\Programs\\Utility\\Anaconda\\envs\\pymc_env\\lib\\site-packages\\theano\\graph\\op.py:253\u001b[0m, in \u001b[0;36mOp.__call__\u001b[1;34m(self, *inputs, **kwargs)\u001b[0m\n\u001b[0;32m    250\u001b[0m node \u001b[38;5;241m=\u001b[39m \u001b[38;5;28mself\u001b[39m\u001b[38;5;241m.\u001b[39mmake_node(\u001b[38;5;241m*\u001b[39minputs, \u001b[38;5;241m*\u001b[39m\u001b[38;5;241m*\u001b[39mkwargs)\n\u001b[0;32m    252\u001b[0m \u001b[38;5;28;01mif\u001b[39;00m config\u001b[38;5;241m.\u001b[39mcompute_test_value \u001b[38;5;241m!=\u001b[39m \u001b[38;5;124m\"\u001b[39m\u001b[38;5;124moff\u001b[39m\u001b[38;5;124m\"\u001b[39m:\n\u001b[1;32m--> 253\u001b[0m     \u001b[43mcompute_test_value\u001b[49m\u001b[43m(\u001b[49m\u001b[43mnode\u001b[49m\u001b[43m)\u001b[49m\n\u001b[0;32m    255\u001b[0m \u001b[38;5;28;01mif\u001b[39;00m \u001b[38;5;28mself\u001b[39m\u001b[38;5;241m.\u001b[39mdefault_output \u001b[38;5;129;01mis\u001b[39;00m \u001b[38;5;129;01mnot\u001b[39;00m \u001b[38;5;28;01mNone\u001b[39;00m:\n\u001b[0;32m    256\u001b[0m     rval \u001b[38;5;241m=\u001b[39m node\u001b[38;5;241m.\u001b[39moutputs[\u001b[38;5;28mself\u001b[39m\u001b[38;5;241m.\u001b[39mdefault_output]\n",
      "File \u001b[1;32mE:\\Programs\\Utility\\Anaconda\\envs\\pymc_env\\lib\\site-packages\\theano\\graph\\op.py:126\u001b[0m, in \u001b[0;36mcompute_test_value\u001b[1;34m(node)\u001b[0m\n\u001b[0;32m    123\u001b[0m     compute_map[o] \u001b[38;5;241m=\u001b[39m [\u001b[38;5;28;01mFalse\u001b[39;00m]\n\u001b[0;32m    125\u001b[0m \u001b[38;5;66;03m# Create a thunk that performs the computation\u001b[39;00m\n\u001b[1;32m--> 126\u001b[0m thunk \u001b[38;5;241m=\u001b[39m \u001b[43mnode\u001b[49m\u001b[38;5;241;43m.\u001b[39;49m\u001b[43mop\u001b[49m\u001b[38;5;241;43m.\u001b[39;49m\u001b[43mmake_thunk\u001b[49m\u001b[43m(\u001b[49m\u001b[43mnode\u001b[49m\u001b[43m,\u001b[49m\u001b[43m \u001b[49m\u001b[43mstorage_map\u001b[49m\u001b[43m,\u001b[49m\u001b[43m \u001b[49m\u001b[43mcompute_map\u001b[49m\u001b[43m,\u001b[49m\u001b[43m \u001b[49m\u001b[43mno_recycling\u001b[49m\u001b[38;5;241;43m=\u001b[39;49m\u001b[43m[\u001b[49m\u001b[43m]\u001b[49m\u001b[43m)\u001b[49m\n\u001b[0;32m    127\u001b[0m thunk\u001b[38;5;241m.\u001b[39minputs \u001b[38;5;241m=\u001b[39m [storage_map[v] \u001b[38;5;28;01mfor\u001b[39;00m v \u001b[38;5;129;01min\u001b[39;00m node\u001b[38;5;241m.\u001b[39minputs]\n\u001b[0;32m    128\u001b[0m thunk\u001b[38;5;241m.\u001b[39moutputs \u001b[38;5;241m=\u001b[39m [storage_map[v] \u001b[38;5;28;01mfor\u001b[39;00m v \u001b[38;5;129;01min\u001b[39;00m node\u001b[38;5;241m.\u001b[39moutputs]\n",
      "File \u001b[1;32mE:\\Programs\\Utility\\Anaconda\\envs\\pymc_env\\lib\\site-packages\\theano\\graph\\op.py:634\u001b[0m, in \u001b[0;36mCOp.make_thunk\u001b[1;34m(self, node, storage_map, compute_map, no_recycling, impl)\u001b[0m\n\u001b[0;32m    630\u001b[0m \u001b[38;5;28mself\u001b[39m\u001b[38;5;241m.\u001b[39mprepare_node(\n\u001b[0;32m    631\u001b[0m     node, storage_map\u001b[38;5;241m=\u001b[39mstorage_map, compute_map\u001b[38;5;241m=\u001b[39mcompute_map, impl\u001b[38;5;241m=\u001b[39m\u001b[38;5;124m\"\u001b[39m\u001b[38;5;124mc\u001b[39m\u001b[38;5;124m\"\u001b[39m\n\u001b[0;32m    632\u001b[0m )\n\u001b[0;32m    633\u001b[0m \u001b[38;5;28;01mtry\u001b[39;00m:\n\u001b[1;32m--> 634\u001b[0m     \u001b[38;5;28;01mreturn\u001b[39;00m \u001b[38;5;28;43mself\u001b[39;49m\u001b[38;5;241;43m.\u001b[39;49m\u001b[43mmake_c_thunk\u001b[49m\u001b[43m(\u001b[49m\u001b[43mnode\u001b[49m\u001b[43m,\u001b[49m\u001b[43m \u001b[49m\u001b[43mstorage_map\u001b[49m\u001b[43m,\u001b[49m\u001b[43m \u001b[49m\u001b[43mcompute_map\u001b[49m\u001b[43m,\u001b[49m\u001b[43m \u001b[49m\u001b[43mno_recycling\u001b[49m\u001b[43m)\u001b[49m\n\u001b[0;32m    635\u001b[0m \u001b[38;5;28;01mexcept\u001b[39;00m (\u001b[38;5;167;01mNotImplementedError\u001b[39;00m, MethodNotDefined):\n\u001b[0;32m    636\u001b[0m     \u001b[38;5;66;03m# We requested the c code, so don't catch the error.\u001b[39;00m\n\u001b[0;32m    637\u001b[0m     \u001b[38;5;28;01mif\u001b[39;00m impl \u001b[38;5;241m==\u001b[39m \u001b[38;5;124m\"\u001b[39m\u001b[38;5;124mc\u001b[39m\u001b[38;5;124m\"\u001b[39m:\n",
      "File \u001b[1;32mE:\\Programs\\Utility\\Anaconda\\envs\\pymc_env\\lib\\site-packages\\theano\\graph\\op.py:600\u001b[0m, in \u001b[0;36mCOp.make_c_thunk\u001b[1;34m(self, node, storage_map, compute_map, no_recycling)\u001b[0m\n\u001b[0;32m    598\u001b[0m         \u001b[38;5;28mprint\u001b[39m(\u001b[38;5;124mf\u001b[39m\u001b[38;5;124m\"\u001b[39m\u001b[38;5;124mDisabling C code for \u001b[39m\u001b[38;5;132;01m{\u001b[39;00m\u001b[38;5;28mself\u001b[39m\u001b[38;5;132;01m}\u001b[39;00m\u001b[38;5;124m due to unsupported float16\u001b[39m\u001b[38;5;124m\"\u001b[39m)\n\u001b[0;32m    599\u001b[0m         \u001b[38;5;28;01mraise\u001b[39;00m \u001b[38;5;167;01mNotImplementedError\u001b[39;00m(\u001b[38;5;124m\"\u001b[39m\u001b[38;5;124mfloat16\u001b[39m\u001b[38;5;124m\"\u001b[39m)\n\u001b[1;32m--> 600\u001b[0m outputs \u001b[38;5;241m=\u001b[39m \u001b[43mcl\u001b[49m\u001b[38;5;241;43m.\u001b[39;49m\u001b[43mmake_thunk\u001b[49m\u001b[43m(\u001b[49m\n\u001b[0;32m    601\u001b[0m \u001b[43m    \u001b[49m\u001b[43minput_storage\u001b[49m\u001b[38;5;241;43m=\u001b[39;49m\u001b[43mnode_input_storage\u001b[49m\u001b[43m,\u001b[49m\u001b[43m \u001b[49m\u001b[43moutput_storage\u001b[49m\u001b[38;5;241;43m=\u001b[39;49m\u001b[43mnode_output_storage\u001b[49m\n\u001b[0;32m    602\u001b[0m \u001b[43m\u001b[49m\u001b[43m)\u001b[49m\n\u001b[0;32m    603\u001b[0m thunk, node_input_filters, node_output_filters \u001b[38;5;241m=\u001b[39m outputs\n\u001b[0;32m    605\u001b[0m \u001b[38;5;28;01mdef\u001b[39;00m \u001b[38;5;21mrval\u001b[39m():\n",
      "File \u001b[1;32mE:\\Programs\\Utility\\Anaconda\\envs\\pymc_env\\lib\\site-packages\\theano\\link\\c\\basic.py:1203\u001b[0m, in \u001b[0;36mCLinker.make_thunk\u001b[1;34m(self, input_storage, output_storage, storage_map)\u001b[0m\n\u001b[0;32m   1175\u001b[0m \u001b[38;5;124;03m\"\"\"\u001b[39;00m\n\u001b[0;32m   1176\u001b[0m \u001b[38;5;124;03mCompiles this linker's fgraph and returns a function to perform the\u001b[39;00m\n\u001b[0;32m   1177\u001b[0m \u001b[38;5;124;03mcomputations, as well as lists of storage cells for both the inputs\u001b[39;00m\n\u001b[1;32m   (...)\u001b[0m\n\u001b[0;32m   1200\u001b[0m \u001b[38;5;124;03m  first_output = ostor[0].data\u001b[39;00m\n\u001b[0;32m   1201\u001b[0m \u001b[38;5;124;03m\"\"\"\u001b[39;00m\n\u001b[0;32m   1202\u001b[0m init_tasks, tasks \u001b[38;5;241m=\u001b[39m \u001b[38;5;28mself\u001b[39m\u001b[38;5;241m.\u001b[39mget_init_tasks()\n\u001b[1;32m-> 1203\u001b[0m cthunk, module, in_storage, out_storage, error_storage \u001b[38;5;241m=\u001b[39m \u001b[38;5;28;43mself\u001b[39;49m\u001b[38;5;241;43m.\u001b[39;49m\u001b[43m__compile__\u001b[49m\u001b[43m(\u001b[49m\n\u001b[0;32m   1204\u001b[0m \u001b[43m    \u001b[49m\u001b[43minput_storage\u001b[49m\u001b[43m,\u001b[49m\u001b[43m \u001b[49m\u001b[43moutput_storage\u001b[49m\u001b[43m,\u001b[49m\u001b[43m \u001b[49m\u001b[43mstorage_map\u001b[49m\n\u001b[0;32m   1205\u001b[0m \u001b[43m\u001b[49m\u001b[43m)\u001b[49m\n\u001b[0;32m   1207\u001b[0m res \u001b[38;5;241m=\u001b[39m _CThunk(cthunk, init_tasks, tasks, error_storage, module)\n\u001b[0;32m   1208\u001b[0m res\u001b[38;5;241m.\u001b[39mnodes \u001b[38;5;241m=\u001b[39m \u001b[38;5;28mself\u001b[39m\u001b[38;5;241m.\u001b[39mnode_order\n",
      "File \u001b[1;32mE:\\Programs\\Utility\\Anaconda\\envs\\pymc_env\\lib\\site-packages\\theano\\link\\c\\basic.py:1138\u001b[0m, in \u001b[0;36mCLinker.__compile__\u001b[1;34m(self, input_storage, output_storage, storage_map)\u001b[0m\n\u001b[0;32m   1136\u001b[0m input_storage \u001b[38;5;241m=\u001b[39m \u001b[38;5;28mtuple\u001b[39m(input_storage)\n\u001b[0;32m   1137\u001b[0m output_storage \u001b[38;5;241m=\u001b[39m \u001b[38;5;28mtuple\u001b[39m(output_storage)\n\u001b[1;32m-> 1138\u001b[0m thunk, module \u001b[38;5;241m=\u001b[39m \u001b[38;5;28;43mself\u001b[39;49m\u001b[38;5;241;43m.\u001b[39;49m\u001b[43mcthunk_factory\u001b[49m\u001b[43m(\u001b[49m\n\u001b[0;32m   1139\u001b[0m \u001b[43m    \u001b[49m\u001b[43merror_storage\u001b[49m\u001b[43m,\u001b[49m\n\u001b[0;32m   1140\u001b[0m \u001b[43m    \u001b[49m\u001b[43minput_storage\u001b[49m\u001b[43m,\u001b[49m\n\u001b[0;32m   1141\u001b[0m \u001b[43m    \u001b[49m\u001b[43moutput_storage\u001b[49m\u001b[43m,\u001b[49m\n\u001b[0;32m   1142\u001b[0m \u001b[43m    \u001b[49m\u001b[43mstorage_map\u001b[49m\u001b[43m,\u001b[49m\n\u001b[0;32m   1143\u001b[0m \u001b[43m\u001b[49m\u001b[43m)\u001b[49m\n\u001b[0;32m   1144\u001b[0m \u001b[38;5;28;01mreturn\u001b[39;00m (\n\u001b[0;32m   1145\u001b[0m     thunk,\n\u001b[0;32m   1146\u001b[0m     module,\n\u001b[1;32m   (...)\u001b[0m\n\u001b[0;32m   1155\u001b[0m     error_storage,\n\u001b[0;32m   1156\u001b[0m )\n",
      "File \u001b[1;32mE:\\Programs\\Utility\\Anaconda\\envs\\pymc_env\\lib\\site-packages\\theano\\link\\c\\basic.py:1634\u001b[0m, in \u001b[0;36mCLinker.cthunk_factory\u001b[1;34m(self, error_storage, in_storage, out_storage, storage_map)\u001b[0m\n\u001b[0;32m   1632\u001b[0m     \u001b[38;5;28;01mfor\u001b[39;00m node \u001b[38;5;129;01min\u001b[39;00m \u001b[38;5;28mself\u001b[39m\u001b[38;5;241m.\u001b[39mnode_order:\n\u001b[0;32m   1633\u001b[0m         node\u001b[38;5;241m.\u001b[39mop\u001b[38;5;241m.\u001b[39mprepare_node(node, storage_map, \u001b[38;5;28;01mNone\u001b[39;00m, \u001b[38;5;124m\"\u001b[39m\u001b[38;5;124mc\u001b[39m\u001b[38;5;124m\"\u001b[39m)\n\u001b[1;32m-> 1634\u001b[0m     module \u001b[38;5;241m=\u001b[39m \u001b[43mget_module_cache\u001b[49m\u001b[43m(\u001b[49m\u001b[43m)\u001b[49m\u001b[38;5;241;43m.\u001b[39;49m\u001b[43mmodule_from_key\u001b[49m\u001b[43m(\u001b[49m\u001b[43mkey\u001b[49m\u001b[38;5;241;43m=\u001b[39;49m\u001b[43mkey\u001b[49m\u001b[43m,\u001b[49m\u001b[43m \u001b[49m\u001b[43mlnk\u001b[49m\u001b[38;5;241;43m=\u001b[39;49m\u001b[38;5;28;43mself\u001b[39;49m\u001b[43m)\u001b[49m\n\u001b[0;32m   1636\u001b[0m \u001b[38;5;28mvars\u001b[39m \u001b[38;5;241m=\u001b[39m \u001b[38;5;28mself\u001b[39m\u001b[38;5;241m.\u001b[39minputs \u001b[38;5;241m+\u001b[39m \u001b[38;5;28mself\u001b[39m\u001b[38;5;241m.\u001b[39moutputs \u001b[38;5;241m+\u001b[39m \u001b[38;5;28mself\u001b[39m\u001b[38;5;241m.\u001b[39morphans\n\u001b[0;32m   1637\u001b[0m \u001b[38;5;66;03m# List of indices that should be ignored when passing the arguments\u001b[39;00m\n\u001b[0;32m   1638\u001b[0m \u001b[38;5;66;03m# (basically, everything that the previous call to uniq eliminated)\u001b[39;00m\n",
      "File \u001b[1;32mE:\\Programs\\Utility\\Anaconda\\envs\\pymc_env\\lib\\site-packages\\theano\\link\\c\\cmodule.py:1191\u001b[0m, in \u001b[0;36mModuleCache.module_from_key\u001b[1;34m(self, key, lnk)\u001b[0m\n\u001b[0;32m   1189\u001b[0m \u001b[38;5;28;01mtry\u001b[39;00m:\n\u001b[0;32m   1190\u001b[0m     location \u001b[38;5;241m=\u001b[39m dlimport_workdir(\u001b[38;5;28mself\u001b[39m\u001b[38;5;241m.\u001b[39mdirname)\n\u001b[1;32m-> 1191\u001b[0m     module \u001b[38;5;241m=\u001b[39m \u001b[43mlnk\u001b[49m\u001b[38;5;241;43m.\u001b[39;49m\u001b[43mcompile_cmodule\u001b[49m\u001b[43m(\u001b[49m\u001b[43mlocation\u001b[49m\u001b[43m)\u001b[49m\n\u001b[0;32m   1192\u001b[0m     name \u001b[38;5;241m=\u001b[39m module\u001b[38;5;241m.\u001b[39m\u001b[38;5;18m__file__\u001b[39m\n\u001b[0;32m   1193\u001b[0m     \u001b[38;5;28;01massert\u001b[39;00m name\u001b[38;5;241m.\u001b[39mstartswith(location)\n",
      "File \u001b[1;32mE:\\Programs\\Utility\\Anaconda\\envs\\pymc_env\\lib\\site-packages\\theano\\link\\c\\basic.py:1543\u001b[0m, in \u001b[0;36mCLinker.compile_cmodule\u001b[1;34m(self, location)\u001b[0m\n\u001b[0;32m   1541\u001b[0m \u001b[38;5;28;01mtry\u001b[39;00m:\n\u001b[0;32m   1542\u001b[0m     _logger\u001b[38;5;241m.\u001b[39mdebug(\u001b[38;5;124mf\u001b[39m\u001b[38;5;124m\"\u001b[39m\u001b[38;5;124mLOCATION \u001b[39m\u001b[38;5;132;01m{\u001b[39;00mlocation\u001b[38;5;132;01m}\u001b[39;00m\u001b[38;5;124m\"\u001b[39m)\n\u001b[1;32m-> 1543\u001b[0m     module \u001b[38;5;241m=\u001b[39m \u001b[43mc_compiler\u001b[49m\u001b[38;5;241;43m.\u001b[39;49m\u001b[43mcompile_str\u001b[49m\u001b[43m(\u001b[49m\n\u001b[0;32m   1544\u001b[0m \u001b[43m        \u001b[49m\u001b[43mmodule_name\u001b[49m\u001b[38;5;241;43m=\u001b[39;49m\u001b[43mmod\u001b[49m\u001b[38;5;241;43m.\u001b[39;49m\u001b[43mcode_hash\u001b[49m\u001b[43m,\u001b[49m\n\u001b[0;32m   1545\u001b[0m \u001b[43m        \u001b[49m\u001b[43msrc_code\u001b[49m\u001b[38;5;241;43m=\u001b[39;49m\u001b[43msrc_code\u001b[49m\u001b[43m,\u001b[49m\n\u001b[0;32m   1546\u001b[0m \u001b[43m        \u001b[49m\u001b[43mlocation\u001b[49m\u001b[38;5;241;43m=\u001b[39;49m\u001b[43mlocation\u001b[49m\u001b[43m,\u001b[49m\n\u001b[0;32m   1547\u001b[0m \u001b[43m        \u001b[49m\u001b[43minclude_dirs\u001b[49m\u001b[38;5;241;43m=\u001b[39;49m\u001b[38;5;28;43mself\u001b[39;49m\u001b[38;5;241;43m.\u001b[39;49m\u001b[43mheader_dirs\u001b[49m\u001b[43m(\u001b[49m\u001b[43m)\u001b[49m\u001b[43m,\u001b[49m\n\u001b[0;32m   1548\u001b[0m \u001b[43m        \u001b[49m\u001b[43mlib_dirs\u001b[49m\u001b[38;5;241;43m=\u001b[39;49m\u001b[38;5;28;43mself\u001b[39;49m\u001b[38;5;241;43m.\u001b[39;49m\u001b[43mlib_dirs\u001b[49m\u001b[43m(\u001b[49m\u001b[43m)\u001b[49m\u001b[43m,\u001b[49m\n\u001b[0;32m   1549\u001b[0m \u001b[43m        \u001b[49m\u001b[43mlibs\u001b[49m\u001b[38;5;241;43m=\u001b[39;49m\u001b[43mlibs\u001b[49m\u001b[43m,\u001b[49m\n\u001b[0;32m   1550\u001b[0m \u001b[43m        \u001b[49m\u001b[43mpreargs\u001b[49m\u001b[38;5;241;43m=\u001b[39;49m\u001b[43mpreargs\u001b[49m\u001b[43m,\u001b[49m\n\u001b[0;32m   1551\u001b[0m \u001b[43m    \u001b[49m\u001b[43m)\u001b[49m\n\u001b[0;32m   1552\u001b[0m \u001b[38;5;28;01mexcept\u001b[39;00m \u001b[38;5;167;01mException\u001b[39;00m \u001b[38;5;28;01mas\u001b[39;00m e:\n\u001b[0;32m   1553\u001b[0m     e\u001b[38;5;241m.\u001b[39margs \u001b[38;5;241m+\u001b[39m\u001b[38;5;241m=\u001b[39m (\u001b[38;5;28mstr\u001b[39m(\u001b[38;5;28mself\u001b[39m\u001b[38;5;241m.\u001b[39mfgraph),)\n",
      "File \u001b[1;32mE:\\Programs\\Utility\\Anaconda\\envs\\pymc_env\\lib\\site-packages\\theano\\link\\c\\cmodule.py:2546\u001b[0m, in \u001b[0;36mGCC_compiler.compile_str\u001b[1;34m(module_name, src_code, location, include_dirs, lib_dirs, libs, preargs, py_module, hide_symbols)\u001b[0m\n\u001b[0;32m   2542\u001b[0m     \u001b[38;5;66;03m# We replace '\\n' by '. ' in the error message because when Python\u001b[39;00m\n\u001b[0;32m   2543\u001b[0m     \u001b[38;5;66;03m# prints the exception, having '\\n' in the text makes it more\u001b[39;00m\n\u001b[0;32m   2544\u001b[0m     \u001b[38;5;66;03m# difficult to read.\u001b[39;00m\n\u001b[0;32m   2545\u001b[0m     compile_stderr \u001b[38;5;241m=\u001b[39m compile_stderr\u001b[38;5;241m.\u001b[39mreplace(\u001b[38;5;124m\"\u001b[39m\u001b[38;5;130;01m\\n\u001b[39;00m\u001b[38;5;124m\"\u001b[39m, \u001b[38;5;124m\"\u001b[39m\u001b[38;5;124m. \u001b[39m\u001b[38;5;124m\"\u001b[39m)\n\u001b[1;32m-> 2546\u001b[0m     \u001b[38;5;28;01mraise\u001b[39;00m \u001b[38;5;167;01mException\u001b[39;00m(\n\u001b[0;32m   2547\u001b[0m         \u001b[38;5;124mf\u001b[39m\u001b[38;5;124m\"\u001b[39m\u001b[38;5;124mCompilation failed (return status=\u001b[39m\u001b[38;5;132;01m{\u001b[39;00mstatus\u001b[38;5;132;01m}\u001b[39;00m\u001b[38;5;124m): \u001b[39m\u001b[38;5;132;01m{\u001b[39;00mcompile_stderr\u001b[38;5;132;01m}\u001b[39;00m\u001b[38;5;124m\"\u001b[39m\n\u001b[0;32m   2548\u001b[0m     )\n\u001b[0;32m   2549\u001b[0m \u001b[38;5;28;01melif\u001b[39;00m config\u001b[38;5;241m.\u001b[39mcmodule__compilation_warning \u001b[38;5;129;01mand\u001b[39;00m compile_stderr:\n\u001b[0;32m   2550\u001b[0m     \u001b[38;5;66;03m# Print errors just below the command line.\u001b[39;00m\n\u001b[0;32m   2551\u001b[0m     \u001b[38;5;28mprint\u001b[39m(compile_stderr)\n",
      "\u001b[1;31mException\u001b[0m: ('Compilation failed (return status=1): In file included from E:\\\\Programs\\\\Utility\\\\Anaconda\\\\envs\\\\pymc_env\\\\include/Python.h:50:0,.                  from C:\\\\Users\\\\Jon\\\\AppData\\\\Local\\\\Theano\\\\compiledir_Windows-10-10.0.19042-SP0-Intel64_Family_6_Model_165_Stepping_5_GenuineIntel-3.10.4-64\\\\tmpi4sw7nu1\\\\mod.cpp:1:. E:\\\\Programs\\\\Utility\\\\Anaconda\\\\envs\\\\pymc_env\\\\include/pyport.h:746:2: error: #error \"LONG_BIT definition appears wrong for platform (bad gcc/glibc config?).\".  #error \"LONG_BIT definition appears wrong for platform (bad gcc/glibc config?).\".   ^~~~~. In file included from E:\\\\Programs\\\\Utility\\\\Anaconda\\\\envs\\\\pymc_env\\\\include/fileutils.h:19:0,.                  from E:\\\\Programs\\\\Utility\\\\Anaconda\\\\envs\\\\pymc_env\\\\include/Python.h:144,.                  from C:\\\\Users\\\\Jon\\\\AppData\\\\Local\\\\Theano\\\\compiledir_Windows-10-10.0.19042-SP0-Intel64_Family_6_Model_165_Stepping_5_GenuineIntel-3.10.4-64\\\\tmpi4sw7nu1\\\\mod.cpp:1:. E:\\\\Programs\\\\Utility\\\\Anaconda\\\\envs\\\\pymc_env\\\\include/cpython/fileutils.h:63:5: error: \\'__int64\\' does not name a type; did you mean \\'__int64_t\\'?.      __int64 st_size;.      ^~~~~~~.      __int64_t. In file included from /usr/include/sys/stat.h:22:0,.                  from E:\\\\Programs\\\\Utility\\\\Anaconda\\\\envs\\\\pymc_env\\\\include/pyport.h:243,.                  from E:\\\\Programs\\\\Utility\\\\Anaconda\\\\envs\\\\pymc_env\\\\include/Python.h:50,.                  from C:\\\\Users\\\\Jon\\\\AppData\\\\Local\\\\Theano\\\\compiledir_Windows-10-10.0.19042-SP0-Intel64_Family_6_Model_165_Stepping_5_GenuineIntel-3.10.4-64\\\\tmpi4sw7nu1\\\\mod.cpp:1:. E:\\\\Programs\\\\Utility\\\\Anaconda\\\\envs\\\\pymc_env\\\\include/cpython/fileutils.h:64:12: error: expected \\';\\' at end of member declaration.      time_t st_atime;.             ^. E:\\\\Programs\\\\Utility\\\\Anaconda\\\\envs\\\\pymc_env\\\\include/cpython/fileutils.h:64:12: error: expected unqualified-id before \\'.\\' token.      time_t st_atime;.             ^. E:\\\\Programs\\\\Utility\\\\Anaconda\\\\envs\\\\pymc_env\\\\include/cpython/fileutils.h:66:12: error: expected \\';\\' at end of member declaration.      time_t st_mtime;.             ^. E:\\\\Programs\\\\Utility\\\\Anaconda\\\\envs\\\\pymc_env\\\\include/cpython/fileutils.h:66:12: error: expected unqualified-id before \\'.\\' token.      time_t st_mtime;.             ^. E:\\\\Programs\\\\Utility\\\\Anaconda\\\\envs\\\\pymc_env\\\\include/cpython/fileutils.h:68:12: error: expected \\';\\' at end of member declaration.      time_t st_ctime;.             ^. E:\\\\Programs\\\\Utility\\\\Anaconda\\\\envs\\\\pymc_env\\\\include/cpython/fileutils.h:68:12: error: expected unqualified-id before \\'.\\' token.      time_t st_ctime;.             ^. In file included from E:\\\\Programs\\\\Utility\\\\Anaconda\\\\envs\\\\pymc_env\\\\include/Python.h:8:0,.                  from C:\\\\Users\\\\Jon\\\\AppData\\\\Local\\\\Theano\\\\compiledir_Windows-10-10.0.19042-SP0-Intel64_Family_6_Model_165_Stepping_5_GenuineIntel-3.10.4-64\\\\tmpi4sw7nu1\\\\mod.cpp:1:. E:\\\\Programs\\\\Utility\\\\Anaconda\\\\envs\\\\pymc_env\\\\include/pyconfig.h:246:29: error: \\'__int64\\' does not name a type; did you mean \\'__int64_t\\'?.  #       define PY_LONG_LONG __int64.                              ^. E:\\\\Programs\\\\Utility\\\\Anaconda\\\\envs\\\\pymc_env\\\\lib\\\\site-packages\\\\numpy\\\\core\\\\include/numpy/npy_common.h:332:9: note: in expansion of macro \\'PY_LONG_LONG\\'.  typedef PY_LONG_LONG npy_longlong;.          ^~~~~~~~~~~~. In file included from E:\\\\Programs\\\\Utility\\\\Anaconda\\\\envs\\\\pymc_env\\\\lib\\\\site-packages\\\\numpy\\\\core\\\\include/numpy/ndarraytypes.h:4:0,.                  from E:\\\\Programs\\\\Utility\\\\Anaconda\\\\envs\\\\pymc_env\\\\lib\\\\site-packages\\\\numpy\\\\core\\\\include/numpy/ndarrayobject.h:12,.                  from E:\\\\Programs\\\\Utility\\\\Anaconda\\\\envs\\\\pymc_env\\\\lib\\\\site-packages\\\\numpy\\\\core\\\\include/numpy/arrayobject.h:4,.                  from C:\\\\Users\\\\Jon\\\\AppData\\\\Local\\\\Theano\\\\compiledir_Windows-10-10.0.19042-SP0-Intel64_Family_6_Model_165_Stepping_5_GenuineIntel-3.10.4-64\\\\tmpi4sw7nu1\\\\mod.cpp:5:. E:\\\\Programs\\\\Utility\\\\Anaconda\\\\envs\\\\pymc_env\\\\lib\\\\site-packages\\\\numpy\\\\core\\\\include/numpy/npy_common.h:333:31: error: expected initializer before \\'npy_ulonglong\\'.  typedef unsigned PY_LONG_LONG npy_ulonglong;.                                ^~~~~~~~~~~~~. In file included from E:\\\\Programs\\\\Utility\\\\Anaconda\\\\envs\\\\pymc_env\\\\lib\\\\site-packages\\\\numpy\\\\core\\\\include/numpy/ndarraytypes.h:4:0,.                  from E:\\\\Programs\\\\Utility\\\\Anaconda\\\\envs\\\\pymc_env\\\\lib\\\\site-packages\\\\numpy\\\\core\\\\include/numpy/ndarrayobject.h:12,.                  from E:\\\\Programs\\\\Utility\\\\Anaconda\\\\envs\\\\pymc_env\\\\lib\\\\site-packages\\\\numpy\\\\core\\\\include/numpy/arrayobject.h:4,.                  from C:\\\\Users\\\\Jon\\\\AppData\\\\Local\\\\Theano\\\\compiledir_Windows-10-10.0.19042-SP0-Intel64_Family_6_Model_165_Stepping_5_GenuineIntel-3.10.4-64\\\\tmpi4sw7nu1\\\\mod.cpp:5:. E:\\\\Programs\\\\Utility\\\\Anaconda\\\\envs\\\\pymc_env\\\\lib\\\\site-packages\\\\numpy\\\\core\\\\include/numpy/npy_common.h:641:17: error: \\'npy_longlong\\' does not name a type; did you mean \\'npy_long\\'?.          typedef npy_longlong npy_int64;.                  ^~~~~~~~~~~~.                  npy_long. E:\\\\Programs\\\\Utility\\\\Anaconda\\\\envs\\\\pymc_env\\\\lib\\\\site-packages\\\\numpy\\\\core\\\\include/numpy/npy_common.h:642:17: error: \\'npy_ulonglong\\' does not name a type; did you mean \\'npy_ulong\\'?.          typedef npy_ulonglong npy_uint64;.                  ^~~~~~~~~~~~~.                  npy_ulong. E:\\\\Programs\\\\Utility\\\\Anaconda\\\\envs\\\\pymc_env\\\\lib\\\\site-packages\\\\numpy\\\\core\\\\include/numpy/npy_common.h:1120:9: error: \\'npy_int64\\' does not name a type; did you mean \\'npy_int8\\'?.  typedef npy_int64 npy_timedelta;.          ^~~~~~~~~.          npy_int8. E:\\\\Programs\\\\Utility\\\\Anaconda\\\\envs\\\\pymc_env\\\\lib\\\\site-packages\\\\numpy\\\\core\\\\include/numpy/npy_common.h:1121:9: error: \\'npy_int64\\' does not name a type; did you mean \\'npy_int8\\'?.  typedef npy_int64 npy_datetime;.          ^~~~~~~~~.          npy_int8. In file included from E:\\\\Programs\\\\Utility\\\\Anaconda\\\\envs\\\\pymc_env\\\\lib\\\\site-packages\\\\numpy\\\\core\\\\include/numpy/ndarrayobject.h:12:0,.                  from E:\\\\Programs\\\\Utility\\\\Anaconda\\\\envs\\\\pymc_env\\\\lib\\\\site-packages\\\\numpy\\\\core\\\\include/numpy/arrayobject.h:4,.                  from C:\\\\Users\\\\Jon\\\\AppData\\\\Local\\\\Theano\\\\compiledir_Windows-10-10.0.19042-SP0-Intel64_Family_6_Model_165_Stepping_5_GenuineIntel-3.10.4-64\\\\tmpi4sw7nu1\\\\mod.cpp:5:. E:\\\\Programs\\\\Utility\\\\Anaconda\\\\envs\\\\pymc_env\\\\lib\\\\site-packages\\\\numpy\\\\core\\\\include/numpy/ndarraytypes.h:783:9: error: \\'npy_int64\\' does not name a type; did you mean \\'npy_int8\\'?.          npy_int64 year;.          ^~~~~~~~~.          npy_int8. E:\\\\Programs\\\\Utility\\\\Anaconda\\\\envs\\\\pymc_env\\\\lib\\\\site-packages\\\\numpy\\\\core\\\\include/numpy/ndarraytypes.h:789:9: error: \\'npy_int64\\' does not name a type; did you mean \\'npy_int8\\'?.          npy_int64 day;.          ^~~~~~~~~.          npy_int8. In file included from C:\\\\Users\\\\Jon\\\\AppData\\\\Local\\\\Theano\\\\compiledir_Windows-10-10.0.19042-SP0-Intel64_Family_6_Model_165_Stepping_5_GenuineIntel-3.10.4-64\\\\tmpi4sw7nu1\\\\mod.cpp:6:0:. E:\\\\Programs\\\\Utility\\\\Anaconda\\\\envs\\\\pymc_env\\\\lib\\\\site-packages\\\\numpy\\\\core\\\\include/numpy/arrayscalars.h:38:9: error: \\'npy_longlong\\' does not name a type; did you mean \\'npy_long\\'?.          npy_longlong obval;.          ^~~~~~~~~~~~.          npy_long. E:\\\\Programs\\\\Utility\\\\Anaconda\\\\envs\\\\pymc_env\\\\lib\\\\site-packages\\\\numpy\\\\core\\\\include/numpy/arrayscalars.h:68:9: error: \\'npy_ulonglong\\' does not name a type; did you mean \\'npy_ulong\\'?.          npy_ulonglong obval;.          ^~~~~~~~~~~~~.          npy_ulong. E:\\\\Programs\\\\Utility\\\\Anaconda\\\\envs\\\\pymc_env\\\\lib\\\\site-packages\\\\numpy\\\\core\\\\include/numpy/arrayscalars.h:121:9: error: \\'npy_datetime\\' does not name a type; did you mean \\'npy_datetimestruct\\'?.          npy_datetime obval;.          ^~~~~~~~~~~~.          npy_datetimestruct. E:\\\\Programs\\\\Utility\\\\Anaconda\\\\envs\\\\pymc_env\\\\lib\\\\site-packages\\\\numpy\\\\core\\\\include/numpy/arrayscalars.h:127:9: error: \\'npy_timedelta\\' does not name a type; did you mean \\'npy_timedeltastruct\\'?.          npy_timedelta obval;.          ^~~~~~~~~~~~~.          npy_timedeltastruct. cc1plus: warning: unrecognized command line option \\'-Wno-c++11-narrowing\\'. ', 'FunctionGraph(Elemwise{true_div,no_inplace}(TensorConstant{1.0}, TensorConstant{0.01}))')"
     ]
    }
   ],
   "source": [
    "from pymc3 import Model, Uniform\n",
    "with Model() as radon_model:\n",
    "    u = Normal('u', mu=0, sd=10)\n",
    "    o = Uniform('o', 0, 10)"
   ]
  },
  {
   "cell_type": "code",
   "execution_count": 16,
   "id": "10fa2ea4",
   "metadata": {},
   "outputs": [
    {
     "ename": "NameError",
     "evalue": "name 'u' is not defined",
     "output_type": "error",
     "traceback": [
      "\u001b[1;31m---------------------------------------------------------------------------\u001b[0m",
      "\u001b[1;31mNameError\u001b[0m                                 Traceback (most recent call last)",
      "Input \u001b[1;32mIn [16]\u001b[0m, in \u001b[0;36m<cell line: 1>\u001b[1;34m()\u001b[0m\n\u001b[0;32m      1\u001b[0m \u001b[38;5;28;01mwith\u001b[39;00m radon_model:\n\u001b[1;32m----> 2\u001b[0m     y \u001b[38;5;241m=\u001b[39m Normal(\u001b[38;5;124m'\u001b[39m\u001b[38;5;124my\u001b[39m\u001b[38;5;124m'\u001b[39m, mu\u001b[38;5;241m=\u001b[39m\u001b[43mu\u001b[49m, sd\u001b[38;5;241m=\u001b[39m\u001b[38;5;241m0\u001b[39m, observed\u001b[38;5;241m=\u001b[39mhennepin_radon)\n",
      "\u001b[1;31mNameError\u001b[0m: name 'u' is not defined"
     ]
    }
   ],
   "source": [
    "with radon_model:\n",
    "    y = Normal('y', mu=u, sd=0, observed=hennepin_radon)"
   ]
  },
  {
   "cell_type": "code",
   "execution_count": null,
   "id": "f615b390",
   "metadata": {},
   "outputs": [],
   "source": [
    "from pymc3 import fit\n",
    "with radon_model:\n",
    "    samples = fit(random_seed=RANDOM_SEED).sample(1000)"
   ]
  },
  {
   "cell_type": "code",
   "execution_count": null,
   "id": "d558b393",
   "metadata": {},
   "outputs": [],
   "source": [
    "from pymc3 import plot_posterior\n",
    "plot_posterior(samples)"
   ]
  },
  {
   "cell_type": "code",
   "execution_count": null,
   "id": "e06c9bc1",
   "metadata": {},
   "outputs": [],
   "source": [
    "mus = samples['u']\n",
    "sigmas = samples['o']\n",
    "mus"
   ]
  },
  {
   "cell_type": "code",
   "execution_count": null,
   "id": "39547a69",
   "metadata": {},
   "outputs": [],
   "source": [
    "radon_samples = Normal.dist(mus, sigmas).random()"
   ]
  },
  {
   "cell_type": "code",
   "execution_count": null,
   "id": "1ea107c9",
   "metadata": {},
   "outputs": [],
   "source": [
    "(radon_samples > np.log(4)).mean()"
   ]
  },
  {
   "cell_type": "code",
   "execution_count": null,
   "id": "09528f3e",
   "metadata": {},
   "outputs": [],
   "source": [
    "sns.distplot(radon_samples, label='simulated')\n",
    "sns.distplot(hennepin_radon, label='observed')\n",
    "plt.legend()"
   ]
  },
  {
   "cell_type": "code",
   "execution_count": null,
   "id": "b1719405",
   "metadata": {},
   "outputs": [],
   "source": [
    "from pymc3 import Flat, HalfCauchy\n",
    "\n",
    "with Model() as prior_sensitivity:\n",
    "    u = Flat('u')\n",
    "    o = HalfCauchy('o', 5)\n",
    "    dist = Normal('dist', mu=u, sd=o, observed=hennepin_radon)\n",
    "    sensitivity_samples = fit(random_seed=RANDOM_SEED).sample(1000)"
   ]
  },
  {
   "cell_type": "code",
   "execution_count": null,
   "id": "e61c7867",
   "metadata": {},
   "outputs": [],
   "source": [
    "plot_posterior(sensitivity_samples)"
   ]
  },
  {
   "cell_type": "code",
   "execution_count": null,
   "id": "f12af870",
   "metadata": {},
   "outputs": [],
   "source": [
    "plot_posterior(samples)"
   ]
  },
  {
   "cell_type": "code",
   "execution_count": null,
   "id": "370f7b0f",
   "metadata": {},
   "outputs": [],
   "source": [
    "drug = pd.DataFrame(dict(iq=(101,100,102,104,102,97,105,105,98,101,100,123,105,103,100,95,102,100,109,102,82,102,100,102,102,101,102,102,103,103,97,97,103,101,97,104,96,103,124,101,101,100,101,101,104,100,101), groups='drug'))"
   ]
  },
  {
   "cell_type": "code",
   "execution_count": null,
   "id": "56219cbf",
   "metadata": {},
   "outputs": [],
   "source": [
    "placebo = pd.DataFrame(dict(iq=(99,101,100,101,102,100,97,101,104,101,102,102,100,105,88,101,100,104,100,100,100,101,102,103,97,101,101,100,101,99,101,100,100,101,100,99,101,100,102,99,100,99), groups='placebo'))"
   ]
  },
  {
   "cell_type": "code",
   "execution_count": null,
   "id": "02948e4c",
   "metadata": {},
   "outputs": [],
   "source": [
    "trial_data = pd.concat([drug, placebo], ignore_index=True)"
   ]
  },
  {
   "cell_type": "code",
   "execution_count": null,
   "id": "934966b3",
   "metadata": {},
   "outputs": [],
   "source": [
    "trial_data.hist('iq', by='groups')"
   ]
  },
  {
   "cell_type": "code",
   "execution_count": null,
   "id": "cd64cf87",
   "metadata": {},
   "outputs": [],
   "source": [
    "from pymc3 import StudentT"
   ]
  },
  {
   "cell_type": "code",
   "execution_count": null,
   "id": "812c4d39",
   "metadata": {},
   "outputs": [],
   "source": [
    "t = StudentT.dist(nu=3).random(size=10000)\n",
    "n = Normal.dist(0, 1).random(size=10000)"
   ]
  },
  {
   "cell_type": "code",
   "execution_count": null,
   "id": "01e721c3",
   "metadata": {},
   "outputs": [],
   "source": [
    "sns.distplot(t, label='Student-T')\n",
    "sns.distplot(n, label='Normal')\n",
    "plt.legend()\n",
    "plt.xlim(-10, 10)"
   ]
  },
  {
   "cell_type": "code",
   "execution_count": null,
   "id": "a16559d3",
   "metadata": {},
   "outputs": [],
   "source": [
    "with Model() as drug_model:\n",
    "    u_0 = Normal('u_0', 100, sd=10)\n",
    "    u_1 = Normal('u_1', 100, sd=10)"
   ]
  },
  {
   "cell_type": "code",
   "execution_count": null,
   "id": "a54bac55",
   "metadata": {},
   "outputs": [],
   "source": [
    "with drug_model:\n",
    "    o_0 = Uniform('o_0', lower=0, upper=20)\n",
    "    o_1 = Uniform('o_1', lower=0, upper=20)"
   ]
  },
  {
   "cell_type": "code",
   "execution_count": null,
   "id": "181f2f49",
   "metadata": {},
   "outputs": [],
   "source": [
    "from pymc3 import Exponential\n",
    "\n",
    "with drug_model:\n",
    "    v = Exponential('v_minus_one', 1/29.) + 1"
   ]
  },
  {
   "cell_type": "code",
   "execution_count": null,
   "id": "3069121a",
   "metadata": {},
   "outputs": [],
   "source": [
    "sns.distplot(Exponential.dist(1/29).random(size=10000), kde=False)"
   ]
  },
  {
   "cell_type": "code",
   "execution_count": null,
   "id": "3d9b2e3e",
   "metadata": {},
   "outputs": [],
   "source": [
    "from pymc3 import StudentT\n",
    "with drug_model:\n",
    "    drug_like = StudentT('drug_like', nu=v, mu=u_1, lam=o_1**-2, observed=drug.iq)\n",
    "    placebo_like = StudentT('placebo_like', nu=v, mu=u_0, lam=o_0**-2, observed=placebo.iq)"
   ]
  },
  {
   "cell_type": "code",
   "execution_count": null,
   "id": "99d51cd4",
   "metadata": {},
   "outputs": [],
   "source": [
    "from pymc3 import Deterministic\n",
    "\n",
    "with drug_model:\n",
    "    diff_of_means = Deterministic('difference of means', u_1 - u_0)\n",
    "    effect_size = Deterministic('effect size', diff_of_means / np.sqrt((o_1**2 + o_0**2) / 2))"
   ]
  },
  {
   "cell_type": "code",
   "execution_count": null,
   "id": "24fe228d",
   "metadata": {},
   "outputs": [],
   "source": [
    "with drug_model:\n",
    "    drug_trace = fit(random_seed=RANDOM_SEED).sample(1000)"
   ]
  },
  {
   "cell_type": "code",
   "execution_count": null,
   "id": "d048da3e",
   "metadata": {},
   "outputs": [],
   "source": [
    "plot_posterior(drug_trace[100:], color='#87ceeb')"
   ]
  },
  {
   "cell_type": "code",
   "execution_count": null,
   "id": "9162d2b2",
   "metadata": {},
   "outputs": [],
   "source": [
    "plot_posterior(drug_trace[100:], ref_val=0, color='#87ceeb')"
   ]
  },
  {
   "cell_type": "code",
   "execution_count": null,
   "id": "539468e3",
   "metadata": {},
   "outputs": [],
   "source": [
    "nash_precip = pd.read_table('nashville_precip.txt', delimiter='\\s+', na_values='NA', index_col=0)\n",
    "nash_precip.head()"
   ]
  },
  {
   "cell_type": "code",
   "execution_count": null,
   "id": "f987aade",
   "metadata": {},
   "outputs": [],
   "source": [
    "july_rain = nash_precip.Jul\n",
    "jan_rain = nash_precip.Jan"
   ]
  },
  {
   "cell_type": "code",
   "execution_count": null,
   "id": "e5a8ff53",
   "metadata": {},
   "outputs": [],
   "source": [
    "july_rain.hist()"
   ]
  },
  {
   "cell_type": "code",
   "execution_count": null,
   "id": "01801b58",
   "metadata": {},
   "outputs": [],
   "source": [
    "from pymc3 import distributions\n",
    "dir(distributions)"
   ]
  },
  {
   "cell_type": "code",
   "execution_count": null,
   "id": "558fc6da",
   "metadata": {},
   "outputs": [],
   "source": [
    "july_rain.apply(np.log).hist()"
   ]
  },
  {
   "cell_type": "code",
   "execution_count": null,
   "id": "69a09fcb",
   "metadata": {},
   "outputs": [],
   "source": [
    "from pymc3 import Gamma\n",
    "with Model() as rainfall_model:\n",
    "    σ = Uniform('σ', 0, 1000)\n",
    "    mu_jan = Uniform('mu_jan', 0, 25)\n",
    "    mu_jul = Uniform('mu_jul', 0, 25)\n",
    "    \n",
    "    jan = Gamma('jan', mu=mu_jan, sd=σ, observed=jan_rain)\n",
    "    jul = Gamma('jul', mu=mu_jul, sd=σ, observed=july_rain)\n",
    "    \n",
    "    d = Deterministic('d', mu_jan - mu_jul)"
   ]
  },
  {
   "cell_type": "code",
   "execution_count": null,
   "id": "fc5dc81b",
   "metadata": {},
   "outputs": [],
   "source": [
    "with rainfall_model:\n",
    "    samples = fit(20000).sample(1000)"
   ]
  },
  {
   "cell_type": "code",
   "execution_count": null,
   "id": "8e45f5f9",
   "metadata": {},
   "outputs": [],
   "source": [
    "plot_posterior(samples)"
   ]
  },
  {
   "cell_type": "code",
   "execution_count": null,
   "id": "8567ec60",
   "metadata": {},
   "outputs": [],
   "source": [
    "vlbw = pd.read_csv('vlbw.csv', index_col=0).dropna(axis=0, subset=['ivh', 'pneumo'])\n",
    "vlbw.head()"
   ]
  },
  {
   "cell_type": "code",
   "execution_count": null,
   "id": "93c7281b",
   "metadata": {},
   "outputs": [],
   "source": [
    "pd.crosstab(vlbw.ivh, vlbw.pneumo)"
   ]
  },
  {
   "cell_type": "code",
   "execution_count": null,
   "id": "142f8cbd",
   "metadata": {},
   "outputs": [],
   "source": [
    "ivh = vlbw.ivh.isin(['definite', 'possible']).astype(int).values\n",
    "x = vlbw.pneumo.astype(int).values"
   ]
  },
  {
   "cell_type": "code",
   "execution_count": null,
   "id": "548586d5",
   "metadata": {},
   "outputs": [],
   "source": [
    "from pymc3 import Beta\n",
    "params = (5, 1), (1, 3), (5, 5), (0.5, 0.5), (1, 1)\n",
    "\n",
    "fig, axes = plt.subplots(1, len(params), figsize=(14, 4), sharey=True)\n",
    "for ax, (alpha, beta) in zip(axes, params):\n",
    "    sns.distplot(Beta.dist(alpha, beta).random(size=10000), ax=ax, kde=False)\n",
    "    ax.set_xlim(0, 1)\n",
    "    ax.set_title(r'$\\alpha={0}, \\beta={1}$'.format(alpha, beta))"
   ]
  },
  {
   "cell_type": "code",
   "execution_count": null,
   "id": "c09077ce",
   "metadata": {},
   "outputs": [],
   "source": [
    "with Model() as ivh_model:\n",
    "    p = Beta('p', 1, 1, shape=2)"
   ]
  },
  {
   "cell_type": "code",
   "execution_count": null,
   "id": "5091e8f5",
   "metadata": {},
   "outputs": [],
   "source": [
    "from pymc3 import Bernoulli\n",
    "\n",
    "with ivh_model:\n",
    "    bb_like = Bernoulli('bb_like', p=p[x], observed=ivh)"
   ]
  },
  {
   "cell_type": "code",
   "execution_count": null,
   "id": "0b8c8fa8",
   "metadata": {},
   "outputs": [],
   "source": [
    "with ivh_model:\n",
    "    ivh_trace = fit(random_seed=RANDOM_SEED).sample(1000)"
   ]
  },
  {
   "cell_type": "code",
   "execution_count": null,
   "id": "0c9cfe63",
   "metadata": {},
   "outputs": [],
   "source": [
    "plot_posterior(ivh_trace[100:], color='#87ceeb')"
   ]
  },
  {
   "cell_type": "code",
   "execution_count": null,
   "id": "938889d1",
   "metadata": {},
   "outputs": [],
   "source": [
    "plot_posterior(ivh_trace[100:], ref_val=0, color='#87ceeb')"
   ]
  },
  {
   "cell_type": "code",
   "execution_count": 16,
   "id": "b0f9e448",
   "metadata": {},
   "outputs": [],
   "source": [
    "# From this assignment, I gained understanding on how I can apply statistics to gain meaningful information \n",
    "# from a data set. For example, I learned how to apply and test various distributions to a data set, and then \n",
    "# use this information to make predictions. I feel this will be helpful when we start to investigate mining \n",
    "# and analyzing real-world data. Even with all the data in the world, not knowing to use it to make predictions \n",
    "# or create knowledge will not be helpful. "
   ]
  },
  {
   "cell_type": "markdown",
   "id": "4dbbf667",
   "metadata": {},
   "source": [
    "## Jonathan Doolittle"
   ]
  },
  {
   "cell_type": "code",
   "execution_count": null,
   "id": "01f649b2",
   "metadata": {},
   "outputs": [],
   "source": []
  }
 ],
 "metadata": {
  "kernelspec": {
   "display_name": "Python 3 (ipykernel)",
   "language": "python",
   "name": "python3"
  },
  "language_info": {
   "codemirror_mode": {
    "name": "ipython",
    "version": 3
   },
   "file_extension": ".py",
   "mimetype": "text/x-python",
   "name": "python",
   "nbconvert_exporter": "python",
   "pygments_lexer": "ipython3",
   "version": "3.10.4"
  }
 },
 "nbformat": 4,
 "nbformat_minor": 5
}
