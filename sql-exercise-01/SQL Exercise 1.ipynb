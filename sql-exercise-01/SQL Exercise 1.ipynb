{
 "cells": [
  {
   "cell_type": "code",
   "execution_count": 1,
   "metadata": {},
   "outputs": [],
   "source": [
    "from datetime import datetime\n",
    "from sqlalchemy import (MetaData, Table, Column, Integer, Numeric, String, DateTime, ForeignKey, create_engine)\n",
    "\n",
    "metadata = MetaData()\n",
    "\n",
    "cookies = Table('cookies', metadata, \n",
    "                Column('cookie_id', Integer(), primary_key=True),\n",
    "                Column('cookie_name', String(50), index=True),\n",
    "                Column('cookie_recipe_url', String(255)),\n",
    "                Column('cookie_sku', String(55)),\n",
    "                Column('quantity', Integer()),\n",
    "                Column('unit_cost', Numeric(12, 2)))\n",
    "\n",
    "users = Table('users', metadata, \n",
    "                Column('user_id', Integer(), primary_key=True),\n",
    "                Column('customer_number', Integer(), autoincrement=True),\n",
    "                Column('username', String(15), nullable=False, unique=True),\n",
    "                Column('email_address', String(255), nullable=False),\n",
    "                Column('phone', String(20), nullable=False),\n",
    "                Column('password', String(25), nullable=False),\n",
    "                Column('created_on', DateTime(), default=datetime.now),\n",
    "                Column('updated_on', DateTime(), default=datetime.now, onupdate=datetime.now))\n",
    "\n",
    "orders = Table('orders', metadata, \n",
    "                Column('order_id', Integer(), primary_key=True),\n",
    "                Column('user_id', ForeignKey('users.user_id')))\n",
    "\n",
    "line_items = Table('line_items', metadata, \n",
    "                Column('line_items_id', Integer(), primary_key=True),\n",
    "                Column('order_id', ForeignKey('orders.order_id')),\n",
    "                Column('cookie_id', ForeignKey('cookies.cookie_id')),\n",
    "                Column('quantity', Integer()),\n",
    "                Column('extended_cost', Numeric(12, 2)))\n",
    "\n",
    "engine = create_engine('sqlite:///:memory:')\n",
    "metadata.create_all(engine)"
   ]
  },
  {
   "cell_type": "code",
   "execution_count": 2,
   "metadata": {},
   "outputs": [],
   "source": [
    "# In this code, we start off by importing the necessary tools to interact with an SQLite database, \n",
    "# as well as some time utilities. We then create 4 tables that represent a basic system in which \n",
    "# users can order cookies. Each table has several columns, one of which being the primary key, and \n",
    "# the others holding relevant data, such as usernames, order quantity, and costs. as each of these \n",
    "# tables are created, they are supplied the ‘metadata’ object. Behind the scenes, the new table object \n",
    "# is appended to the metadata object. Finally we create the SQLite engine, and using that engine, call on \n",
    "# the metadata object to instantiate all the tables."
   ]
  },
  {
   "cell_type": "markdown",
   "metadata": {},
   "source": [
    "## Jonathan Doolittle"
   ]
  },
  {
   "cell_type": "code",
   "execution_count": null,
   "metadata": {},
   "outputs": [],
   "source": []
  }
 ],
 "metadata": {
  "kernelspec": {
   "display_name": "Python 3",
   "language": "python",
   "name": "python3"
  },
  "language_info": {
   "codemirror_mode": {
    "name": "ipython",
    "version": 3
   },
   "file_extension": ".py",
   "mimetype": "text/x-python",
   "name": "python",
   "nbconvert_exporter": "python",
   "pygments_lexer": "ipython3",
   "version": "3.8.3"
  }
 },
 "nbformat": 4,
 "nbformat_minor": 4
}
