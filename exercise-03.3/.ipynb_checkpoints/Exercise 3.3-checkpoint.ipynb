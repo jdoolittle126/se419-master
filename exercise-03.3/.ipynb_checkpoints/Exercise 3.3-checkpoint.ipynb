{
 "cells": [
  {
   "cell_type": "code",
   "execution_count": 1,
   "metadata": {},
   "outputs": [
    {
     "ename": "ModuleNotFoundError",
     "evalue": "No module named 'wget'",
     "output_type": "error",
     "traceback": [
      "\u001b[1;31m---------------------------------------------------------------------------\u001b[0m",
      "\u001b[1;31mModuleNotFoundError\u001b[0m                       Traceback (most recent call last)",
      "\u001b[1;32m<ipython-input-1-381d77ba2736>\u001b[0m in \u001b[0;36m<module>\u001b[1;34m\u001b[0m\n\u001b[1;32m----> 1\u001b[1;33m \u001b[1;32mimport\u001b[0m \u001b[0mwget\u001b[0m\u001b[1;33m\u001b[0m\u001b[1;33m\u001b[0m\u001b[0m\n\u001b[0m",
      "\u001b[1;31mModuleNotFoundError\u001b[0m: No module named 'wget'"
     ]
    }
   ],
   "source": [
    "import wget"
   ]
  },
  {
   "cell_type": "code",
   "execution_count": 2,
   "metadata": {},
   "outputs": [
    {
     "name": "stderr",
     "output_type": "stream",
     "text": [
      "WARNING: pip is being invoked by an old script wrapper. This will fail in a future version of pip.\n",
      "Please see https://github.com/pypa/pip/issues/5599 for advice on fixing the underlying issue.\n",
      "To avoid this problem you can invoke Python with '-m pip' instead of running pip directly.\n"
     ]
    },
    {
     "name": "stdout",
     "output_type": "stream",
     "text": [
      "Collecting wget\n",
      "  Downloading wget-3.2.zip (10 kB)\n",
      "Building wheels for collected packages: wget\n",
      "  Building wheel for wget (setup.py): started\n",
      "  Building wheel for wget (setup.py): finished with status 'done'\n",
      "  Created wheel for wget: filename=wget-3.2-py3-none-any.whl size=9686 sha256=d9478a31f868c22c43215f9e5a5b4ac21263125aac30c00459422dcde207ad4b\n",
      "  Stored in directory: c:\\users\\jon\\appdata\\local\\pip\\cache\\wheels\\bd\\a8\\c3\\3cf2c14a1837a4e04bd98631724e81f33f462d86a1d895fae0\n",
      "Successfully built wget\n",
      "Installing collected packages: wget\n",
      "Successfully installed wget-3.2\n"
     ]
    }
   ],
   "source": [
    "from pip._internal import main\n",
    "main(['install', 'wget'])\n",
    "import wget"
   ]
  },
  {
   "cell_type": "code",
   "execution_count": 3,
   "metadata": {},
   "outputs": [],
   "source": [
    "try:\n",
    "    import wget\n",
    "except: \n",
    "    from pip._internal import main\n",
    "    main(['install', 'wget'])\n",
    "    import wget"
   ]
  },
  {
   "cell_type": "code",
   "execution_count": 5,
   "metadata": {},
   "outputs": [
    {
     "name": "stderr",
     "output_type": "stream",
     "text": [
      "WARNING: pip is being invoked by an old script wrapper. This will fail in a future version of pip.\n",
      "Please see https://github.com/pypa/pip/issues/5599 for advice on fixing the underlying issue.\n",
      "To avoid this problem you can invoke Python with '-m pip' instead of running pip directly.\n"
     ]
    },
    {
     "name": "stdout",
     "output_type": "stream",
     "text": [
      "Collecting pandas_datareader\n",
      "  Downloading pandas_datareader-0.10.0-py3-none-any.whl (109 kB)\n",
      "Requirement already satisfied: pandas>=0.23 in e:\\programs\\utility\\anaconda\\lib\\site-packages (from pandas_datareader) (1.0.5)\n",
      "Requirement already satisfied: requests>=2.19.0 in e:\\programs\\utility\\anaconda\\lib\\site-packages (from pandas_datareader) (2.24.0)\n",
      "Requirement already satisfied: lxml in e:\\programs\\utility\\anaconda\\lib\\site-packages (from pandas_datareader) (4.5.2)\n",
      "Requirement already satisfied: pytz>=2017.2 in e:\\programs\\utility\\anaconda\\lib\\site-packages (from pandas>=0.23->pandas_datareader) (2020.1)\n",
      "Requirement already satisfied: python-dateutil>=2.6.1 in e:\\programs\\utility\\anaconda\\lib\\site-packages (from pandas>=0.23->pandas_datareader) (2.8.1)\n",
      "Requirement already satisfied: numpy>=1.13.3 in e:\\programs\\utility\\anaconda\\lib\\site-packages (from pandas>=0.23->pandas_datareader) (1.18.5)\n",
      "Requirement already satisfied: urllib3!=1.25.0,!=1.25.1,<1.26,>=1.21.1 in e:\\programs\\utility\\anaconda\\lib\\site-packages (from requests>=2.19.0->pandas_datareader) (1.25.9)\n",
      "Requirement already satisfied: certifi>=2017.4.17 in e:\\programs\\utility\\anaconda\\lib\\site-packages (from requests>=2.19.0->pandas_datareader) (2020.6.20)\n",
      "Requirement already satisfied: idna<3,>=2.5 in e:\\programs\\utility\\anaconda\\lib\\site-packages (from requests>=2.19.0->pandas_datareader) (2.10)\n",
      "Requirement already satisfied: chardet<4,>=3.0.2 in e:\\programs\\utility\\anaconda\\lib\\site-packages (from requests>=2.19.0->pandas_datareader) (3.0.4)\n",
      "Requirement already satisfied: six>=1.5 in e:\\programs\\utility\\anaconda\\lib\\site-packages (from python-dateutil>=2.6.1->pandas>=0.23->pandas_datareader) (1.15.0)\n",
      "Installing collected packages: pandas-datareader\n",
      "Successfully installed pandas-datareader-0.10.0\n"
     ]
    }
   ],
   "source": [
    "import datetime as dt\n",
    "import matplotlib.pyplot as plt\n",
    "from matplotlib import style\n",
    "import pandas as pd\n",
    "try:\n",
    "    import pandas_datareader.data as web\n",
    "except: \n",
    "    from pip._internal import main\n",
    "    main(['install', 'pandas_datareader'])\n",
    "    import pandas_datareader.data as web"
   ]
  },
  {
   "cell_type": "code",
   "execution_count": 6,
   "metadata": {},
   "outputs": [],
   "source": [
    "style.use('ggplot')"
   ]
  },
  {
   "cell_type": "code",
   "execution_count": 7,
   "metadata": {},
   "outputs": [],
   "source": [
    "start = dt.datetime(2000, 1, 1)\n",
    "end = dt.datetime(2016, 12, 31)"
   ]
  },
  {
   "cell_type": "code",
   "execution_count": 49,
   "metadata": {},
   "outputs": [],
   "source": [
    "class YahooDailyReader():\n",
    "    \n",
    "    def __init__(self, symbol=None, start=None, end=None):\n",
    "        import datetime, time\n",
    "        \n",
    "        self.symbol = symbol\n",
    "        \n",
    "        # initialize start/end dates if not provided\n",
    "        if end is None:\n",
    "            end = datetime.datetime.today()\n",
    "        if start is None:\n",
    "            start = datetime.datetime(2010,1,1)\n",
    "        \n",
    "        self.start = start\n",
    "        self.end = end\n",
    "        \n",
    "\n",
    "        \n",
    "    def read(self):\n",
    "        import requests, re, json\n",
    "        try:\n",
    "            import yfinance\n",
    "        except: \n",
    "            from pip._internal import main\n",
    "            main(['install', 'yfinance'])\n",
    "            import yfinance   \n",
    "        \n",
    "        r = yfinance.Ticker(self.symbol)\n",
    "        history = r.history(start=self.start, end=self.end, interval=\"1d\", frequency=\"1d\")\n",
    "        \n",
    "        df = pd.DataFrame(history)\n",
    "        \n",
    "        df.insert(0, 'symbol', self.symbol)\n",
    "\n",
    "        df = df.dropna(subset=['Close'])\n",
    "        \n",
    "        df = df.reset_index()\n",
    "        \n",
    "        df = df.rename(columns={ \"Date\": \"date\", \n",
    "                           \"High\": \"high\",\n",
    "                           \"Low\": \"low\",\n",
    "                           \"Open\": \"open\",\n",
    "                           \"Close\": \"close\",\n",
    "                           \"Volume\": \"volume\"})\n",
    "        \n",
    "        df = df[['symbol', 'date', 'high', 'low', 'open', 'close', 'volume']]\n",
    "        df = df.set_index('symbol')\n",
    "        return df"
   ]
  },
  {
   "cell_type": "code",
   "execution_count": 51,
   "metadata": {},
   "outputs": [],
   "source": [
    "ydr = YahooDailyReader('TSLA')\n",
    "df = ydr.read()"
   ]
  },
  {
   "cell_type": "code",
   "execution_count": 52,
   "metadata": {},
   "outputs": [
    {
     "name": "stdout",
     "output_type": "stream",
     "text": [
      "             date   high    low   open  close    volume\n",
      "symbol                                                 \n",
      "TSLA   2010-06-29  5.000  3.508  3.800  4.778  93831500\n",
      "TSLA   2010-06-30  6.084  4.660  5.158  4.766  85935500\n",
      "TSLA   2010-07-01  5.184  4.054  5.000  4.392  41094000\n",
      "TSLA   2010-07-02  4.620  3.742  4.600  3.840  25699000\n",
      "TSLA   2010-07-06  4.000  3.166  4.000  3.222  34334500\n",
      "TSLA   2010-07-07  3.326  2.996  3.280  3.160  34608500\n"
     ]
    }
   ],
   "source": [
    "print(df.head(6))"
   ]
  },
  {
   "cell_type": "code",
   "execution_count": 53,
   "metadata": {},
   "outputs": [
    {
     "name": "stdout",
     "output_type": "stream",
     "text": [
      "symbol\n",
      "TSLA    3.800\n",
      "TSLA    5.158\n",
      "TSLA    5.000\n",
      "TSLA    4.600\n",
      "TSLA    4.000\n",
      "Name: open, dtype: float64\n"
     ]
    }
   ],
   "source": [
    "print(df['open'][0:5])"
   ]
  },
  {
   "cell_type": "code",
   "execution_count": 54,
   "metadata": {},
   "outputs": [],
   "source": [
    "df.to_csv('tesla.csv')"
   ]
  },
  {
   "cell_type": "code",
   "execution_count": 55,
   "metadata": {},
   "outputs": [],
   "source": [
    "df = pd.read_csv('tesla.csv')"
   ]
  },
  {
   "cell_type": "code",
   "execution_count": 56,
   "metadata": {},
   "outputs": [
    {
     "name": "stdout",
     "output_type": "stream",
     "text": [
      "  symbol        date   high    low   open  close    volume\n",
      "0   TSLA  2010-06-29  5.000  3.508  3.800  4.778  93831500\n",
      "1   TSLA  2010-06-30  6.084  4.660  5.158  4.766  85935500\n",
      "2   TSLA  2010-07-01  5.184  4.054  5.000  4.392  41094000\n",
      "3   TSLA  2010-07-02  4.620  3.742  4.600  3.840  25699000\n",
      "4   TSLA  2010-07-06  4.000  3.166  4.000  3.222  34334500\n"
     ]
    }
   ],
   "source": [
    "print(df.head())"
   ]
  },
  {
   "cell_type": "code",
   "execution_count": 57,
   "metadata": {},
   "outputs": [],
   "source": [
    "df = pd.read_csv('tesla.csv', parse_dates=True, index_col=0)"
   ]
  },
  {
   "cell_type": "code",
   "execution_count": 58,
   "metadata": {},
   "outputs": [
    {
     "data": {
      "image/png": "[encoded data removed]",
      "text/plain": [
       "<Figure size 432x288 with 1 Axes>"
      ]
     },
     "metadata": {},
     "output_type": "display_data"
    }
   ],
   "source": [
    "df.plot()\n",
    "plt.show()"
   ]
  },
  {
   "cell_type": "code",
   "execution_count": 59,
   "metadata": {},
   "outputs": [
    {
     "data": {
      "image/png": "[encoded data removed]",
      "text/plain": [
       "<Figure size 432x288 with 1 Axes>"
      ]
     },
     "metadata": {},
     "output_type": "display_data"
    }
   ],
   "source": [
    "df['close'].plot()\n",
    "plt.show()"
   ]
  },
  {
   "cell_type": "code",
   "execution_count": 60,
   "metadata": {},
   "outputs": [
    {
     "name": "stdout",
     "output_type": "stream",
     "text": [
      "symbol\n",
      "TSLA       4.778000\n",
      "TSLA       4.766000\n",
      "TSLA       4.392000\n",
      "TSLA       3.840000\n",
      "TSLA       3.222000\n",
      "           ...     \n",
      "TSLA    1091.260010\n",
      "TSLA    1045.760010\n",
      "TSLA    1057.260010\n",
      "TSLA    1025.489990\n",
      "TSLA     975.929993\n",
      "Name: close, Length: 2968, dtype: float64\n"
     ]
    }
   ],
   "source": [
    "print(df['close'])"
   ]
  },
  {
   "cell_type": "code",
   "execution_count": 61,
   "metadata": {},
   "outputs": [
    {
     "name": "stdout",
     "output_type": "stream",
     "text": [
      "         open   high\n",
      "symbol              \n",
      "TSLA    3.800  5.000\n",
      "TSLA    5.158  6.084\n",
      "TSLA    5.000  5.184\n",
      "TSLA    4.600  4.620\n",
      "TSLA    4.000  4.000\n"
     ]
    }
   ],
   "source": [
    "print(df[['open', 'high']].head())"
   ]
  },
  {
   "cell_type": "code",
   "execution_count": 62,
   "metadata": {},
   "outputs": [],
   "source": [
    "# These graphs show that Tesla has done quite well as a company over the past few years! They \n",
    "# have seen tremendous growth, an although there have been a few dips, have been consistently \n",
    "# been on the upswing."
   ]
  },
  {
   "cell_type": "code",
   "execution_count": 63,
   "metadata": {},
   "outputs": [],
   "source": [
    "# To make this program more viable, I would add the ability to compare multiple stocks, or \n",
    "# compare stocks against a tracking index such as the S&P 500. This would allow me to see if \n",
    "# any correlations exists, and to see if a company’s growth was in line with the current economic \n",
    "# growth, or if they outperformed/underperformed the market."
   ]
  },
  {
   "cell_type": "markdown",
   "metadata": {},
   "source": [
    "## Jonathan Doolittle"
   ]
  },
  {
   "cell_type": "code",
   "execution_count": null,
   "metadata": {},
   "outputs": [],
   "source": []
  }
 ],
 "metadata": {
  "kernelspec": {
   "display_name": "Python 3",
   "language": "python",
   "name": "python3"
  },
  "language_info": {
   "codemirror_mode": {
    "name": "ipython",
    "version": 3
   },
   "file_extension": ".py",
   "mimetype": "text/x-python",
   "name": "python",
   "nbconvert_exporter": "python",
   "pygments_lexer": "ipython3",
   "version": "3.8.3"
  }
 },
 "nbformat": 4,
 "nbformat_minor": 4
}
