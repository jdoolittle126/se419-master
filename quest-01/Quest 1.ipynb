{
 "cells": [
  {
   "cell_type": "code",
   "execution_count": 7,
   "metadata": {},
   "outputs": [],
   "source": [
    "from itertools import permutations\n",
    "\n",
    "def order(a, b, c):\n",
    "    print('Unordered:')\n",
    "    print(a, b, c, sep=',')\n",
    "    # Swap 1\n",
    "    if a > b:\n",
    "        a, b = b, a\n",
    "    # Swap 2\n",
    "    if a > c:\n",
    "        a, c = c, a\n",
    "    # Swap 3\n",
    "    if b > c:\n",
    "        b, c = c, b\n",
    "    print('Ordered:')\n",
    "    print(a, b, c, sep=',')"
   ]
  },
  {
   "cell_type": "code",
   "execution_count": 8,
   "metadata": {},
   "outputs": [
    {
     "name": "stdout",
     "output_type": "stream",
     "text": [
      "Unordered:\n",
      "3,2,1\n",
      "Ordered:\n",
      "1,2,3\n",
      "Unordered:\n",
      "3,1,2\n",
      "Ordered:\n",
      "1,2,3\n",
      "Unordered:\n",
      "2,3,1\n",
      "Ordered:\n",
      "1,2,3\n",
      "Unordered:\n",
      "2,1,3\n",
      "Ordered:\n",
      "1,2,3\n",
      "Unordered:\n",
      "1,3,2\n",
      "Ordered:\n",
      "1,2,3\n",
      "Unordered:\n",
      "1,2,3\n",
      "Ordered:\n",
      "1,2,3\n"
     ]
    }
   ],
   "source": [
    "# For displaying all of the test cases\n",
    "for combo in permutations([3, 2, 1], 3):\n",
    "    order(combo[0], combo[1], combo[2])"
   ]
  },
  {
   "cell_type": "markdown",
   "metadata": {},
   "source": [
    "## Jonathan Doolittle"
   ]
  },
  {
   "cell_type": "code",
   "execution_count": null,
   "metadata": {},
   "outputs": [],
   "source": []
  }
 ],
 "metadata": {
  "kernelspec": {
   "display_name": "Python 3",
   "language": "python",
   "name": "python3"
  },
  "language_info": {
   "codemirror_mode": {
    "name": "ipython",
    "version": 3
   },
   "file_extension": ".py",
   "mimetype": "text/x-python",
   "name": "python",
   "nbconvert_exporter": "python",
   "pygments_lexer": "ipython3",
   "version": "3.8.3"
  }
 },
 "nbformat": 4,
 "nbformat_minor": 4
}
